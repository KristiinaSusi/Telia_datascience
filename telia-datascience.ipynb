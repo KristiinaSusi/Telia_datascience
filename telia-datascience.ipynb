{
 "cells": [
  {
   "cell_type": "code",
   "execution_count": 2,
   "id": "a9f59dfd",
   "metadata": {},
   "outputs": [],
   "source": [
    "# Comments about the model\n",
    "\n",
    "# Since I had not used a model like that before I used the tutorial notebook as a base.\n",
    "# When I first started working on the model I could not get it working (problem with a model size)\n",
    "# I found the answer in the comment section of the Tutorial notebook and applied it. \n",
    "\n",
    "# I first ran this on my own computer and got good results when increasing the number of epochs \n",
    "# (but I had to decrease the batch size because otherwise everything crashed)\n",
    "# When I finally tried to run it in Kaggle I realized that the model was overfitted on the dataset and that's why\n",
    "# results on my computer differed so much from the ones in Kaggle\n",
    "\n",
    "# I searched for ways to increase the accuracy of my model (thank you ChatGPT) but ran out of time an could not \n",
    "# implement these changes (I had to run the code in Kaggle to be sure the changes are working since batch size \n",
    "# had to be 8 in my computer)\n",
    "\n",
    "# I found the following ways:\n",
    "# Increase training data by shuffling the data (I tried that but it did not increase the accuracy)\n",
    "# Increase training data by Synonyme replacement (using a synonyme dictionary)\n",
    "# Translating all the sentences to English \n",
    "\n",
    "# In addition I found some articles about batch size vs learning rate where they found out that on their dataset\n",
    "# learning rate of 0.00017 was the best so I tried that\n",
    "\n",
    "# The learning rate I got from Kaggle was 0.34706\n"
   ]
  },
  {
   "cell_type": "code",
   "execution_count": 1,
   "id": "66aa82dc",
   "metadata": {
    "_cell_guid": "b1076dfc-b9ad-4769-8c92-a6c4dae69d19",
    "_uuid": "8f2839f25d086af736a60e9eeb907d3b93b6e0e5",
    "execution": {
     "iopub.execute_input": "2023-03-13T22:33:49.649368Z",
     "iopub.status.busy": "2023-03-13T22:33:49.648927Z",
     "iopub.status.idle": "2023-03-13T22:33:49.662714Z",
     "shell.execute_reply": "2023-03-13T22:33:49.661128Z"
    },
    "papermill": {
     "duration": 0.024802,
     "end_time": "2023-03-13T22:33:49.665057",
     "exception": false,
     "start_time": "2023-03-13T22:33:49.640255",
     "status": "completed"
    },
    "tags": []
   },
   "outputs": [
    {
     "name": "stdout",
     "output_type": "stream",
     "text": [
      "/kaggle/input/contradictory-my-dear-watson/sample_submission.csv\n",
      "/kaggle/input/contradictory-my-dear-watson/train.csv\n",
      "/kaggle/input/contradictory-my-dear-watson/test.csv\n"
     ]
    }
   ],
   "source": [
    "# This Python 3 environment comes with many helpful analytics libraries installed\n",
    "# It is defined by the kaggle/python Docker image: https://github.com/kaggle/docker-python\n",
    "# For example, here's several helpful packages to load\n",
    "\n",
    "import numpy as np # linear algebra\n",
    "import pandas as pd # data processing, CSV file I/O (e.g. pd.read_csv)\n",
    "\n",
    "# Input data files are available in the read-only \"../input/\" directory\n",
    "# For example, running this (by clicking run or pressing Shift+Enter) will list all files under the input directory\n",
    "\n",
    "import os\n",
    "for dirname, _, filenames in os.walk('/kaggle/input'):\n",
    "    for filename in filenames:\n",
    "        print(os.path.join(dirname, filename))\n",
    "\n",
    "# You can write up to 20GB to the current directory (/kaggle/working/) that gets preserved as output when you create a version using \"Save & Run All\" \n",
    "# You can also write temporary files to /kaggle/temp/, but they won't be saved outside of the current session"
   ]
  },
  {
   "cell_type": "code",
   "execution_count": 2,
   "id": "5f10413a",
   "metadata": {
    "execution": {
     "iopub.execute_input": "2023-03-13T22:33:49.679732Z",
     "iopub.status.busy": "2023-03-13T22:33:49.679386Z",
     "iopub.status.idle": "2023-03-13T22:34:11.466349Z",
     "shell.execute_reply": "2023-03-13T22:34:11.465282Z"
    },
    "papermill": {
     "duration": 21.797186,
     "end_time": "2023-03-13T22:34:11.468854",
     "exception": false,
     "start_time": "2023-03-13T22:33:49.671668",
     "status": "completed"
    },
    "tags": []
   },
   "outputs": [
    {
     "name": "stdout",
     "output_type": "stream",
     "text": [
      "Requirement already satisfied: transformers in /opt/conda/lib/python3.7/site-packages (4.26.1)\r\n",
      "Requirement already satisfied: numpy>=1.17 in /opt/conda/lib/python3.7/site-packages (from transformers) (1.21.6)\r\n",
      "Requirement already satisfied: filelock in /opt/conda/lib/python3.7/site-packages (from transformers) (3.9.0)\r\n",
      "Requirement already satisfied: huggingface-hub<1.0,>=0.11.0 in /opt/conda/lib/python3.7/site-packages (from transformers) (0.12.1)\r\n",
      "Requirement already satisfied: packaging>=20.0 in /opt/conda/lib/python3.7/site-packages (from transformers) (23.0)\r\n",
      "Requirement already satisfied: tqdm>=4.27 in /opt/conda/lib/python3.7/site-packages (from transformers) (4.64.1)\r\n",
      "Requirement already satisfied: pyyaml>=5.1 in /opt/conda/lib/python3.7/site-packages (from transformers) (6.0)\r\n",
      "Requirement already satisfied: requests in /opt/conda/lib/python3.7/site-packages (from transformers) (2.28.2)\r\n",
      "Requirement already satisfied: regex!=2019.12.17 in /opt/conda/lib/python3.7/site-packages (from transformers) (2021.11.10)\r\n",
      "Requirement already satisfied: tokenizers!=0.11.3,<0.14,>=0.11.1 in /opt/conda/lib/python3.7/site-packages (from transformers) (0.13.2)\r\n",
      "Requirement already satisfied: importlib-metadata in /opt/conda/lib/python3.7/site-packages (from transformers) (4.11.4)\r\n",
      "Requirement already satisfied: typing-extensions>=3.7.4.3 in /opt/conda/lib/python3.7/site-packages (from huggingface-hub<1.0,>=0.11.0->transformers) (4.4.0)\r\n",
      "Requirement already satisfied: zipp>=0.5 in /opt/conda/lib/python3.7/site-packages (from importlib-metadata->transformers) (3.11.0)\r\n",
      "Requirement already satisfied: urllib3<1.27,>=1.21.1 in /opt/conda/lib/python3.7/site-packages (from requests->transformers) (1.26.14)\r\n",
      "Requirement already satisfied: certifi>=2017.4.17 in /opt/conda/lib/python3.7/site-packages (from requests->transformers) (2022.12.7)\r\n",
      "Requirement already satisfied: charset-normalizer<4,>=2 in /opt/conda/lib/python3.7/site-packages (from requests->transformers) (2.1.1)\r\n",
      "Requirement already satisfied: idna<4,>=2.5 in /opt/conda/lib/python3.7/site-packages (from requests->transformers) (3.4)\r\n",
      "\u001b[33mWARNING: Running pip as the 'root' user can result in broken permissions and conflicting behaviour with the system package manager. It is recommended to use a virtual environment instead: https://pip.pypa.io/warnings/venv\u001b[0m\u001b[33m\r\n",
      "\u001b[0m"
     ]
    }
   ],
   "source": [
    "# Lets install transformers \n",
    "\n",
    "!pip install transformers\n",
    "\n",
    "from transformers import BertTokenizer, TFBertModel\n",
    "import matplotlib.pyplot as plt\n",
    "import tensorflow as tf\n"
   ]
  },
  {
   "cell_type": "code",
   "execution_count": 3,
   "id": "8fc64969",
   "metadata": {
    "execution": {
     "iopub.execute_input": "2023-03-13T22:34:11.484804Z",
     "iopub.status.busy": "2023-03-13T22:34:11.484229Z",
     "iopub.status.idle": "2023-03-13T22:34:17.578079Z",
     "shell.execute_reply": "2023-03-13T22:34:17.576874Z"
    },
    "papermill": {
     "duration": 6.104522,
     "end_time": "2023-03-13T22:34:17.580757",
     "exception": false,
     "start_time": "2023-03-13T22:34:11.476235",
     "status": "completed"
    },
    "tags": []
   },
   "outputs": [],
   "source": [
    "os.environ[\"WANDB_API_KEY\"] = \"0\" ## to silence warning\n",
    "\n",
    "try:\n",
    "    tpu = tf.distribute.cluster_resolver.TPUClusterResolver()\n",
    "    tf.config.experimental_connect_to_cluster(tpu)\n",
    "    tf.tpu.experimental.initialize_tpu_system(tpu)\n",
    "    strategy = tf.distribute.experimental.TPUStrategy(tpu)\n",
    "except ValueError:\n",
    "    strategy = tf.distribute.get_strategy() # for CPU and single GPU\n",
    "    print('Number of replicas:', strategy.num_replicas_in_sync)"
   ]
  },
  {
   "cell_type": "code",
   "execution_count": 4,
   "id": "70b0cc34",
   "metadata": {
    "execution": {
     "iopub.execute_input": "2023-03-13T22:34:17.595817Z",
     "iopub.status.busy": "2023-03-13T22:34:17.595389Z",
     "iopub.status.idle": "2023-03-13T22:34:17.688258Z",
     "shell.execute_reply": "2023-03-13T22:34:17.686910Z"
    },
    "papermill": {
     "duration": 0.103072,
     "end_time": "2023-03-13T22:34:17.690751",
     "exception": false,
     "start_time": "2023-03-13T22:34:17.587679",
     "status": "completed"
    },
    "tags": []
   },
   "outputs": [],
   "source": [
    "# Let's read in train file\n",
    "train = pd.read_csv(\"../input/contradictory-my-dear-watson/train.csv\")"
   ]
  },
  {
   "cell_type": "code",
   "execution_count": 5,
   "id": "ae731329",
   "metadata": {
    "execution": {
     "iopub.execute_input": "2023-03-13T22:34:17.706235Z",
     "iopub.status.busy": "2023-03-13T22:34:17.705849Z",
     "iopub.status.idle": "2023-03-13T22:34:17.732728Z",
     "shell.execute_reply": "2023-03-13T22:34:17.731597Z"
    },
    "papermill": {
     "duration": 0.037403,
     "end_time": "2023-03-13T22:34:17.735097",
     "exception": false,
     "start_time": "2023-03-13T22:34:17.697694",
     "status": "completed"
    },
    "tags": []
   },
   "outputs": [
    {
     "data": {
      "text/html": [
       "<div>\n",
       "<style scoped>\n",
       "    .dataframe tbody tr th:only-of-type {\n",
       "        vertical-align: middle;\n",
       "    }\n",
       "\n",
       "    .dataframe tbody tr th {\n",
       "        vertical-align: top;\n",
       "    }\n",
       "\n",
       "    .dataframe thead th {\n",
       "        text-align: right;\n",
       "    }\n",
       "</style>\n",
       "<table border=\"1\" class=\"dataframe\">\n",
       "  <thead>\n",
       "    <tr style=\"text-align: right;\">\n",
       "      <th></th>\n",
       "      <th>id</th>\n",
       "      <th>premise</th>\n",
       "      <th>hypothesis</th>\n",
       "      <th>lang_abv</th>\n",
       "      <th>language</th>\n",
       "      <th>label</th>\n",
       "    </tr>\n",
       "  </thead>\n",
       "  <tbody>\n",
       "    <tr>\n",
       "      <th>0</th>\n",
       "      <td>5130fd2cb5</td>\n",
       "      <td>and these comments were considered in formulat...</td>\n",
       "      <td>The rules developed in the interim were put to...</td>\n",
       "      <td>en</td>\n",
       "      <td>English</td>\n",
       "      <td>0</td>\n",
       "    </tr>\n",
       "    <tr>\n",
       "      <th>1</th>\n",
       "      <td>5b72532a0b</td>\n",
       "      <td>These are issues that we wrestle with in pract...</td>\n",
       "      <td>Practice groups are not permitted to work on t...</td>\n",
       "      <td>en</td>\n",
       "      <td>English</td>\n",
       "      <td>2</td>\n",
       "    </tr>\n",
       "    <tr>\n",
       "      <th>2</th>\n",
       "      <td>3931fbe82a</td>\n",
       "      <td>Des petites choses comme celles-là font une di...</td>\n",
       "      <td>J'essayais d'accomplir quelque chose.</td>\n",
       "      <td>fr</td>\n",
       "      <td>French</td>\n",
       "      <td>0</td>\n",
       "    </tr>\n",
       "    <tr>\n",
       "      <th>3</th>\n",
       "      <td>5622f0c60b</td>\n",
       "      <td>you know they can't really defend themselves l...</td>\n",
       "      <td>They can't defend themselves because of their ...</td>\n",
       "      <td>en</td>\n",
       "      <td>English</td>\n",
       "      <td>0</td>\n",
       "    </tr>\n",
       "    <tr>\n",
       "      <th>4</th>\n",
       "      <td>86aaa48b45</td>\n",
       "      <td>ในการเล่นบทบาทสมมุติก็เช่นกัน โอกาสที่จะได้แสด...</td>\n",
       "      <td>เด็กสามารถเห็นได้ว่าชาติพันธุ์แตกต่างกันอย่างไร</td>\n",
       "      <td>th</td>\n",
       "      <td>Thai</td>\n",
       "      <td>1</td>\n",
       "    </tr>\n",
       "  </tbody>\n",
       "</table>\n",
       "</div>"
      ],
      "text/plain": [
       "           id                                            premise  \\\n",
       "0  5130fd2cb5  and these comments were considered in formulat...   \n",
       "1  5b72532a0b  These are issues that we wrestle with in pract...   \n",
       "2  3931fbe82a  Des petites choses comme celles-là font une di...   \n",
       "3  5622f0c60b  you know they can't really defend themselves l...   \n",
       "4  86aaa48b45  ในการเล่นบทบาทสมมุติก็เช่นกัน โอกาสที่จะได้แสด...   \n",
       "\n",
       "                                          hypothesis lang_abv language  label  \n",
       "0  The rules developed in the interim were put to...       en  English      0  \n",
       "1  Practice groups are not permitted to work on t...       en  English      2  \n",
       "2              J'essayais d'accomplir quelque chose.       fr   French      0  \n",
       "3  They can't defend themselves because of their ...       en  English      0  \n",
       "4    เด็กสามารถเห็นได้ว่าชาติพันธุ์แตกต่างกันอย่างไร       th     Thai      1  "
      ]
     },
     "execution_count": 5,
     "metadata": {},
     "output_type": "execute_result"
    }
   ],
   "source": [
    "# Lets see how does the table look like\n",
    "train.head()"
   ]
  },
  {
   "cell_type": "code",
   "execution_count": 6,
   "id": "776f60e4",
   "metadata": {
    "execution": {
     "iopub.execute_input": "2023-03-13T22:34:17.751224Z",
     "iopub.status.busy": "2023-03-13T22:34:17.750852Z",
     "iopub.status.idle": "2023-03-13T22:34:17.796447Z",
     "shell.execute_reply": "2023-03-13T22:34:17.795358Z"
    },
    "papermill": {
     "duration": 0.056365,
     "end_time": "2023-03-13T22:34:17.798853",
     "exception": false,
     "start_time": "2023-03-13T22:34:17.742488",
     "status": "completed"
    },
    "tags": []
   },
   "outputs": [
    {
     "data": {
      "text/html": [
       "<div>\n",
       "<style scoped>\n",
       "    .dataframe tbody tr th:only-of-type {\n",
       "        vertical-align: middle;\n",
       "    }\n",
       "\n",
       "    .dataframe tbody tr th {\n",
       "        vertical-align: top;\n",
       "    }\n",
       "\n",
       "    .dataframe thead th {\n",
       "        text-align: right;\n",
       "    }\n",
       "</style>\n",
       "<table border=\"1\" class=\"dataframe\">\n",
       "  <thead>\n",
       "    <tr style=\"text-align: right;\">\n",
       "      <th></th>\n",
       "      <th>id</th>\n",
       "      <th>premise</th>\n",
       "      <th>hypothesis</th>\n",
       "      <th>lang_abv</th>\n",
       "      <th>language</th>\n",
       "      <th>label</th>\n",
       "    </tr>\n",
       "  </thead>\n",
       "  <tbody>\n",
       "    <tr>\n",
       "      <th>0</th>\n",
       "      <td>5130fd2cb5</td>\n",
       "      <td>and these comments were considered in formulat...</td>\n",
       "      <td>the rules developed in the interim were put to...</td>\n",
       "      <td>en</td>\n",
       "      <td>english</td>\n",
       "      <td>0</td>\n",
       "    </tr>\n",
       "    <tr>\n",
       "      <th>1</th>\n",
       "      <td>5b72532a0b</td>\n",
       "      <td>these are issues that we wrestle with in pract...</td>\n",
       "      <td>practice groups are not permitted to work on t...</td>\n",
       "      <td>en</td>\n",
       "      <td>english</td>\n",
       "      <td>2</td>\n",
       "    </tr>\n",
       "    <tr>\n",
       "      <th>2</th>\n",
       "      <td>3931fbe82a</td>\n",
       "      <td>des petites choses comme celles-là font une di...</td>\n",
       "      <td>j'essayais d'accomplir quelque chose.</td>\n",
       "      <td>fr</td>\n",
       "      <td>french</td>\n",
       "      <td>0</td>\n",
       "    </tr>\n",
       "    <tr>\n",
       "      <th>3</th>\n",
       "      <td>5622f0c60b</td>\n",
       "      <td>you know they can't really defend themselves l...</td>\n",
       "      <td>they can't defend themselves because of their ...</td>\n",
       "      <td>en</td>\n",
       "      <td>english</td>\n",
       "      <td>0</td>\n",
       "    </tr>\n",
       "    <tr>\n",
       "      <th>4</th>\n",
       "      <td>86aaa48b45</td>\n",
       "      <td>ในการเล่นบทบาทสมมุติก็เช่นกัน โอกาสที่จะได้แสด...</td>\n",
       "      <td>เด็กสามารถเห็นได้ว่าชาติพันธุ์แตกต่างกันอย่างไร</td>\n",
       "      <td>th</td>\n",
       "      <td>thai</td>\n",
       "      <td>1</td>\n",
       "    </tr>\n",
       "  </tbody>\n",
       "</table>\n",
       "</div>"
      ],
      "text/plain": [
       "           id                                            premise  \\\n",
       "0  5130fd2cb5  and these comments were considered in formulat...   \n",
       "1  5b72532a0b  these are issues that we wrestle with in pract...   \n",
       "2  3931fbe82a  des petites choses comme celles-là font une di...   \n",
       "3  5622f0c60b  you know they can't really defend themselves l...   \n",
       "4  86aaa48b45  ในการเล่นบทบาทสมมุติก็เช่นกัน โอกาสที่จะได้แสด...   \n",
       "\n",
       "                                          hypothesis lang_abv language  label  \n",
       "0  the rules developed in the interim were put to...       en  english      0  \n",
       "1  practice groups are not permitted to work on t...       en  english      2  \n",
       "2              j'essayais d'accomplir quelque chose.       fr   french      0  \n",
       "3  they can't defend themselves because of their ...       en  english      0  \n",
       "4    เด็กสามารถเห็นได้ว่าชาติพันธุ์แตกต่างกันอย่างไร       th     thai      1  "
      ]
     },
     "execution_count": 6,
     "metadata": {},
     "output_type": "execute_result"
    }
   ],
   "source": [
    "# Lets lowercase everything\n",
    "train = train.applymap(lambda x: x.lower() if isinstance(x, str) else x)\n",
    "train.head()"
   ]
  },
  {
   "cell_type": "code",
   "execution_count": 7,
   "id": "ceb1f8ba",
   "metadata": {
    "execution": {
     "iopub.execute_input": "2023-03-13T22:34:17.815479Z",
     "iopub.status.busy": "2023-03-13T22:34:17.815131Z",
     "iopub.status.idle": "2023-03-13T22:34:17.842180Z",
     "shell.execute_reply": "2023-03-13T22:34:17.841044Z"
    },
    "papermill": {
     "duration": 0.038309,
     "end_time": "2023-03-13T22:34:17.844684",
     "exception": false,
     "start_time": "2023-03-13T22:34:17.806375",
     "status": "completed"
    },
    "tags": []
   },
   "outputs": [
    {
     "data": {
      "text/html": [
       "<div>\n",
       "<style scoped>\n",
       "    .dataframe tbody tr th:only-of-type {\n",
       "        vertical-align: middle;\n",
       "    }\n",
       "\n",
       "    .dataframe tbody tr th {\n",
       "        vertical-align: top;\n",
       "    }\n",
       "\n",
       "    .dataframe thead th {\n",
       "        text-align: right;\n",
       "    }\n",
       "</style>\n",
       "<table border=\"1\" class=\"dataframe\">\n",
       "  <thead>\n",
       "    <tr style=\"text-align: right;\">\n",
       "      <th></th>\n",
       "      <th>label</th>\n",
       "    </tr>\n",
       "  </thead>\n",
       "  <tbody>\n",
       "    <tr>\n",
       "      <th>count</th>\n",
       "      <td>12120.000000</td>\n",
       "    </tr>\n",
       "    <tr>\n",
       "      <th>mean</th>\n",
       "      <td>0.990759</td>\n",
       "    </tr>\n",
       "    <tr>\n",
       "      <th>std</th>\n",
       "      <td>0.824523</td>\n",
       "    </tr>\n",
       "    <tr>\n",
       "      <th>min</th>\n",
       "      <td>0.000000</td>\n",
       "    </tr>\n",
       "    <tr>\n",
       "      <th>25%</th>\n",
       "      <td>0.000000</td>\n",
       "    </tr>\n",
       "    <tr>\n",
       "      <th>50%</th>\n",
       "      <td>1.000000</td>\n",
       "    </tr>\n",
       "    <tr>\n",
       "      <th>75%</th>\n",
       "      <td>2.000000</td>\n",
       "    </tr>\n",
       "    <tr>\n",
       "      <th>max</th>\n",
       "      <td>2.000000</td>\n",
       "    </tr>\n",
       "  </tbody>\n",
       "</table>\n",
       "</div>"
      ],
      "text/plain": [
       "              label\n",
       "count  12120.000000\n",
       "mean       0.990759\n",
       "std        0.824523\n",
       "min        0.000000\n",
       "25%        0.000000\n",
       "50%        1.000000\n",
       "75%        2.000000\n",
       "max        2.000000"
      ]
     },
     "execution_count": 7,
     "metadata": {},
     "output_type": "execute_result"
    }
   ],
   "source": [
    "# Before going on with the work we should see if there is a need for clearing the data\n",
    "train.describe()"
   ]
  },
  {
   "cell_type": "code",
   "execution_count": 8,
   "id": "ec760f36",
   "metadata": {
    "execution": {
     "iopub.execute_input": "2023-03-13T22:34:17.862581Z",
     "iopub.status.busy": "2023-03-13T22:34:17.861887Z",
     "iopub.status.idle": "2023-03-13T22:34:18.110123Z",
     "shell.execute_reply": "2023-03-13T22:34:18.109340Z"
    },
    "papermill": {
     "duration": 0.259137,
     "end_time": "2023-03-13T22:34:18.112104",
     "exception": false,
     "start_time": "2023-03-13T22:34:17.852967",
     "status": "completed"
    },
    "tags": []
   },
   "outputs": [
    {
     "data": {
      "image/png": "[encoded data removed]",
      "text/plain": [
       "<Figure size 640x480 with 1 Axes>"
      ]
     },
     "metadata": {},
     "output_type": "display_data"
    }
   ],
   "source": [
    "# Since the only numeric value is label that field is described\n",
    "# I would like to know how are the labels distributed\n",
    "train.groupby('label').count().plot.bar(color='plum')\n",
    "plt.legend([], loc='best')\n",
    "plt.ylabel('Sum of label count')\n",
    "plt.xlabel('Label')\n",
    "plt.title('Summary label count', color='indigo')\n",
    "bars=('0','1','2')\n",
    "y_pos = np.arange(len(bars))\n",
    "plt.xticks(y_pos, bars)\n",
    "plt.show()"
   ]
  },
  {
   "cell_type": "code",
   "execution_count": 9,
   "id": "94534a77",
   "metadata": {
    "execution": {
     "iopub.execute_input": "2023-03-13T22:34:18.129590Z",
     "iopub.status.busy": "2023-03-13T22:34:18.129034Z",
     "iopub.status.idle": "2023-03-13T22:34:18.272222Z",
     "shell.execute_reply": "2023-03-13T22:34:18.271310Z"
    },
    "papermill": {
     "duration": 0.154323,
     "end_time": "2023-03-13T22:34:18.274349",
     "exception": false,
     "start_time": "2023-03-13T22:34:18.120026",
     "status": "completed"
    },
    "tags": []
   },
   "outputs": [
    {
     "data": {
      "image/png": "[encoded data removed]",
      "text/plain": [
       "<Figure size 1000x1000 with 1 Axes>"
      ]
     },
     "metadata": {},
     "output_type": "display_data"
    }
   ],
   "source": [
    "# We can see that the distribution is quite even, lets see that on a pie chart which gives us a better overview\n",
    "labels, frequencies = np.unique(train.label.values, return_counts = True)\n",
    "\n",
    "plt.figure(figsize = (10,10))\n",
    "plt.pie(frequencies,labels = labels, autopct = '%1.1f%%')\n",
    "plt.show()"
   ]
  },
  {
   "cell_type": "code",
   "execution_count": 10,
   "id": "cbd92d7b",
   "metadata": {
    "execution": {
     "iopub.execute_input": "2023-03-13T22:34:18.299063Z",
     "iopub.status.busy": "2023-03-13T22:34:18.297864Z",
     "iopub.status.idle": "2023-03-13T22:34:18.304298Z",
     "shell.execute_reply": "2023-03-13T22:34:18.303446Z"
    },
    "papermill": {
     "duration": 0.021003,
     "end_time": "2023-03-13T22:34:18.306392",
     "exception": false,
     "start_time": "2023-03-13T22:34:18.285389",
     "status": "completed"
    },
    "tags": []
   },
   "outputs": [
    {
     "data": {
      "text/plain": [
       "(12120, 6)"
      ]
     },
     "execution_count": 10,
     "metadata": {},
     "output_type": "execute_result"
    }
   ],
   "source": [
    "# We have explored the data, lets try to find if there is any need for clearing it up\n",
    "train.shape"
   ]
  },
  {
   "cell_type": "code",
   "execution_count": 11,
   "id": "840627ec",
   "metadata": {
    "execution": {
     "iopub.execute_input": "2023-03-13T22:34:18.327848Z",
     "iopub.status.busy": "2023-03-13T22:34:18.326319Z",
     "iopub.status.idle": "2023-03-13T22:34:18.337889Z",
     "shell.execute_reply": "2023-03-13T22:34:18.337062Z"
    },
    "papermill": {
     "duration": 0.023388,
     "end_time": "2023-03-13T22:34:18.339789",
     "exception": false,
     "start_time": "2023-03-13T22:34:18.316401",
     "status": "completed"
    },
    "tags": []
   },
   "outputs": [
    {
     "data": {
      "text/plain": [
       "False"
      ]
     },
     "metadata": {},
     "output_type": "display_data"
    }
   ],
   "source": [
    "# We have 12120 rows and 6 columns\n",
    "# Lets see if there are any empty fields\n",
    "missing = train.isnull().values.any()\n",
    "display(missing)"
   ]
  },
  {
   "cell_type": "code",
   "execution_count": 12,
   "id": "76ca1cf4",
   "metadata": {
    "execution": {
     "iopub.execute_input": "2023-03-13T22:34:18.359034Z",
     "iopub.status.busy": "2023-03-13T22:34:18.358373Z",
     "iopub.status.idle": "2023-03-13T22:34:18.383017Z",
     "shell.execute_reply": "2023-03-13T22:34:18.382027Z"
    },
    "papermill": {
     "duration": 0.036341,
     "end_time": "2023-03-13T22:34:18.384868",
     "exception": false,
     "start_time": "2023-03-13T22:34:18.348527",
     "status": "completed"
    },
    "tags": []
   },
   "outputs": [
    {
     "data": {
      "text/plain": [
       "(12120, 6)"
      ]
     },
     "execution_count": 12,
     "metadata": {},
     "output_type": "execute_result"
    }
   ],
   "source": [
    "# We found out that there are no missing fields\n",
    "\n",
    "# If there are any duplicates we should remove them\n",
    "train = train.drop_duplicates(subset=['premise', 'hypothesis']).sample(frac=1, random_state=42, ignore_index=True)\n",
    "train.shape"
   ]
  },
  {
   "cell_type": "code",
   "execution_count": 13,
   "id": "5bbb826a",
   "metadata": {
    "execution": {
     "iopub.execute_input": "2023-03-13T22:34:18.405195Z",
     "iopub.status.busy": "2023-03-13T22:34:18.404761Z",
     "iopub.status.idle": "2023-03-13T22:34:18.640041Z",
     "shell.execute_reply": "2023-03-13T22:34:18.638764Z"
    },
    "papermill": {
     "duration": 0.24894,
     "end_time": "2023-03-13T22:34:18.642382",
     "exception": false,
     "start_time": "2023-03-13T22:34:18.393442",
     "status": "completed"
    },
    "tags": []
   },
   "outputs": [
    {
     "data": {
      "image/png": "[encoded data removed]",
      "text/plain": [
       "<Figure size 1000x1000 with 1 Axes>"
      ]
     },
     "metadata": {},
     "output_type": "display_data"
    }
   ],
   "source": [
    "# Since the size of train remains the same there were no duplicates\n",
    "# How are the languages distributed\n",
    "\n",
    "labels, frequencies = np.unique(train.language.values, return_counts = True)\n",
    "\n",
    "plt.figure(figsize = (10,10))\n",
    "plt.pie(frequencies,labels = labels, autopct = '%1.1f%%')\n",
    "plt.show()"
   ]
  },
  {
   "cell_type": "code",
   "execution_count": 14,
   "id": "8a68cc41",
   "metadata": {
    "execution": {
     "iopub.execute_input": "2023-03-13T22:34:18.665298Z",
     "iopub.status.busy": "2023-03-13T22:34:18.664888Z",
     "iopub.status.idle": "2023-03-13T22:34:18.684356Z",
     "shell.execute_reply": "2023-03-13T22:34:18.682746Z"
    },
    "papermill": {
     "duration": 0.033311,
     "end_time": "2023-03-13T22:34:18.686538",
     "exception": false,
     "start_time": "2023-03-13T22:34:18.653227",
     "status": "completed"
    },
    "tags": []
   },
   "outputs": [
    {
     "data": {
      "text/html": [
       "<div>\n",
       "<style scoped>\n",
       "    .dataframe tbody tr th:only-of-type {\n",
       "        vertical-align: middle;\n",
       "    }\n",
       "\n",
       "    .dataframe tbody tr th {\n",
       "        vertical-align: top;\n",
       "    }\n",
       "\n",
       "    .dataframe thead th {\n",
       "        text-align: right;\n",
       "    }\n",
       "</style>\n",
       "<table border=\"1\" class=\"dataframe\">\n",
       "  <thead>\n",
       "    <tr style=\"text-align: right;\">\n",
       "      <th></th>\n",
       "      <th>id</th>\n",
       "      <th>premise</th>\n",
       "      <th>hypothesis</th>\n",
       "      <th>lang_abv</th>\n",
       "      <th>language</th>\n",
       "      <th>label</th>\n",
       "    </tr>\n",
       "  </thead>\n",
       "  <tbody>\n",
       "    <tr>\n",
       "      <th>0</th>\n",
       "      <td>9426660470</td>\n",
       "      <td>it was stated that auditors frequently leave t...</td>\n",
       "      <td>auditors get paid more after they leave the pr...</td>\n",
       "      <td>en</td>\n",
       "      <td>english</td>\n",
       "      <td>1</td>\n",
       "    </tr>\n",
       "    <tr>\n",
       "      <th>1</th>\n",
       "      <td>da6a08bfbe</td>\n",
       "      <td>برینشاہ کا خیال ہے کہ جراحی کے خاندان کے دورے ...</td>\n",
       "      <td>فیملی کے دورے جرھا کے اتحاد کا کی بنیادی وجہ ہیں۔</td>\n",
       "      <td>ur</td>\n",
       "      <td>urdu</td>\n",
       "      <td>2</td>\n",
       "    </tr>\n",
       "    <tr>\n",
       "      <th>2</th>\n",
       "      <td>63d5db46ed</td>\n",
       "      <td>the average mls ticket costs a mere $13, one-t...</td>\n",
       "      <td>the average cost was lower because the mls is ...</td>\n",
       "      <td>en</td>\n",
       "      <td>english</td>\n",
       "      <td>1</td>\n",
       "    </tr>\n",
       "    <tr>\n",
       "      <th>3</th>\n",
       "      <td>5409d53c65</td>\n",
       "      <td>strom thurmond , r-s.c., celebrated his 95 th ...</td>\n",
       "      <td>on his 85 birthday, strom thurmond announced h...</td>\n",
       "      <td>en</td>\n",
       "      <td>english</td>\n",
       "      <td>2</td>\n",
       "    </tr>\n",
       "    <tr>\n",
       "      <th>4</th>\n",
       "      <td>d8f0dd7e17</td>\n",
       "      <td>en el contexto de la música popular mexicana, ...</td>\n",
       "      <td>las rancheras son canciones de amor cantadas p...</td>\n",
       "      <td>es</td>\n",
       "      <td>spanish</td>\n",
       "      <td>0</td>\n",
       "    </tr>\n",
       "  </tbody>\n",
       "</table>\n",
       "</div>"
      ],
      "text/plain": [
       "           id                                            premise  \\\n",
       "0  9426660470  it was stated that auditors frequently leave t...   \n",
       "1  da6a08bfbe  برینشاہ کا خیال ہے کہ جراحی کے خاندان کے دورے ...   \n",
       "2  63d5db46ed  the average mls ticket costs a mere $13, one-t...   \n",
       "3  5409d53c65  strom thurmond , r-s.c., celebrated his 95 th ...   \n",
       "4  d8f0dd7e17  en el contexto de la música popular mexicana, ...   \n",
       "\n",
       "                                          hypothesis lang_abv language  label  \n",
       "0  auditors get paid more after they leave the pr...       en  english      1  \n",
       "1  فیملی کے دورے جرھا کے اتحاد کا کی بنیادی وجہ ہیں۔       ur     urdu      2  \n",
       "2  the average cost was lower because the mls is ...       en  english      1  \n",
       "3  on his 85 birthday, strom thurmond announced h...       en  english      2  \n",
       "4  las rancheras son canciones de amor cantadas p...       es  spanish      0  "
      ]
     },
     "execution_count": 14,
     "metadata": {},
     "output_type": "execute_result"
    }
   ],
   "source": [
    "# In order to improve my accuracy I try to mix it up a bit \n",
    "\n",
    "# shuffle the rows in the dataframe\n",
    "shuffled_train = train.sample(frac=1).reset_index(drop=True)\n",
    "shuffled_train.head()\n"
   ]
  },
  {
   "cell_type": "code",
   "execution_count": null,
   "id": "ad4133ff",
   "metadata": {},
   "outputs": [],
   "source": [
    "# This looks different to the one imported before"
   ]
  },
  {
   "cell_type": "code",
   "execution_count": 15,
   "id": "5476e939",
   "metadata": {
    "execution": {
     "iopub.execute_input": "2023-03-13T22:34:18.708573Z",
     "iopub.status.busy": "2023-03-13T22:34:18.708230Z",
     "iopub.status.idle": "2023-03-13T22:34:19.862245Z",
     "shell.execute_reply": "2023-03-13T22:34:19.860712Z"
    },
    "papermill": {
     "duration": 1.167837,
     "end_time": "2023-03-13T22:34:19.864778",
     "exception": false,
     "start_time": "2023-03-13T22:34:18.696941",
     "status": "completed"
    },
    "tags": []
   },
   "outputs": [
    {
     "data": {
      "application/vnd.jupyter.widget-view+json": {
       "model_id": "f4153678d19d4a3bafcbd8b6b423305c",
       "version_major": 2,
       "version_minor": 0
      },
      "text/plain": [
       "Downloading (…)solve/main/vocab.txt:   0%|          | 0.00/996k [00:00<?, ?B/s]"
      ]
     },
     "metadata": {},
     "output_type": "display_data"
    },
    {
     "data": {
      "application/vnd.jupyter.widget-view+json": {
       "model_id": "c4324b0851d343fb967d5375b474507d",
       "version_major": 2,
       "version_minor": 0
      },
      "text/plain": [
       "Downloading (…)okenizer_config.json:   0%|          | 0.00/29.0 [00:00<?, ?B/s]"
      ]
     },
     "metadata": {},
     "output_type": "display_data"
    },
    {
     "data": {
      "application/vnd.jupyter.widget-view+json": {
       "model_id": "7cc866238d95469c94eec81bd02fd597",
       "version_major": 2,
       "version_minor": 0
      },
      "text/plain": [
       "Downloading (…)lve/main/config.json:   0%|          | 0.00/625 [00:00<?, ?B/s]"
      ]
     },
     "metadata": {},
     "output_type": "display_data"
    }
   ],
   "source": [
    "# Lets start with BERT\n",
    "# We need multilingual because there are several different languages present in the dataset\n",
    "\n",
    "model_name = 'bert-base-multilingual-cased'\n",
    "tokenizer = BertTokenizer.from_pretrained(model_name)"
   ]
  },
  {
   "cell_type": "code",
   "execution_count": 16,
   "id": "168485e0",
   "metadata": {
    "execution": {
     "iopub.execute_input": "2023-03-13T22:34:19.888163Z",
     "iopub.status.busy": "2023-03-13T22:34:19.887816Z",
     "iopub.status.idle": "2023-03-13T22:34:19.893888Z",
     "shell.execute_reply": "2023-03-13T22:34:19.892678Z"
    },
    "papermill": {
     "duration": 0.020366,
     "end_time": "2023-03-13T22:34:19.896082",
     "exception": false,
     "start_time": "2023-03-13T22:34:19.875716",
     "status": "completed"
    },
    "tags": []
   },
   "outputs": [],
   "source": [
    "# Define encoding\n",
    "\n",
    "def encode_sentence(s):\n",
    "   tokens = list(tokenizer.tokenize(s))\n",
    "   tokens.append('[SEP]')\n",
    "   return tokenizer.convert_tokens_to_ids(tokens)"
   ]
  },
  {
   "cell_type": "code",
   "execution_count": 17,
   "id": "64cfdae1",
   "metadata": {
    "execution": {
     "iopub.execute_input": "2023-03-13T22:34:19.919920Z",
     "iopub.status.busy": "2023-03-13T22:34:19.919599Z",
     "iopub.status.idle": "2023-03-13T22:34:19.929062Z",
     "shell.execute_reply": "2023-03-13T22:34:19.927525Z"
    },
    "papermill": {
     "duration": 0.024007,
     "end_time": "2023-03-13T22:34:19.931313",
     "exception": false,
     "start_time": "2023-03-13T22:34:19.907306",
     "status": "completed"
    },
    "tags": []
   },
   "outputs": [],
   "source": [
    "# BERT encoder \n",
    "\n",
    "def bert_encode(hypotheses, premises, tokenizer, max_length = 50):\n",
    "    x = [h + ' [SEP] ' + p for h, p in zip(np.array(hypotheses), np.array(premises))]\n",
    "    x = tokenizer(x, padding=True, truncation=True, max_length=max_length)\n",
    "   \n",
    "    num_examples = len(hypotheses)\n",
    "  \n",
    "    sentence1 = tf.ragged.constant([\n",
    "    encode_sentence(s)\n",
    "        for s in np.array(hypotheses)])\n",
    "    sentence2 = tf.ragged.constant([\n",
    "      encode_sentence(s)\n",
    "        for s in np.array(premises)])\n",
    "\n",
    "    cls = [tokenizer.convert_tokens_to_ids(['[CLS]'])]*sentence1.shape[0]\n",
    "    input_word_ids = tf.concat([cls, sentence1, sentence2], axis=-1)\n",
    "\n",
    "    input_mask = tf.ones_like(input_word_ids).to_tensor()\n",
    "\n",
    "    type_cls = tf.zeros_like(cls)\n",
    "    type_s1 = tf.zeros_like(sentence1)\n",
    "    type_s2 = tf.ones_like(sentence2)\n",
    "    input_type_ids = tf.concat(\n",
    "      [type_cls, type_s1, type_s2], axis=-1).to_tensor()\n",
    "\n",
    "    inputs = {\n",
    "          'input_word_ids':tf.ragged.constant(x['input_ids']).to_tensor(),\n",
    "          'input_mask': tf.ragged.constant(x['attention_mask']).to_tensor(),\n",
    "          'input_type_ids': tf.ragged.constant(x['token_type_ids']).to_tensor()}\n",
    "\n",
    "    return inputs"
   ]
  },
  {
   "cell_type": "code",
   "execution_count": 18,
   "id": "67fbb0b3",
   "metadata": {
    "execution": {
     "iopub.execute_input": "2023-03-13T22:34:19.954302Z",
     "iopub.status.busy": "2023-03-13T22:34:19.953895Z",
     "iopub.status.idle": "2023-03-13T22:35:11.138149Z",
     "shell.execute_reply": "2023-03-13T22:35:11.136607Z"
    },
    "papermill": {
     "duration": 51.198782,
     "end_time": "2023-03-13T22:35:11.140732",
     "exception": false,
     "start_time": "2023-03-13T22:34:19.941950",
     "status": "completed"
    },
    "tags": []
   },
   "outputs": [],
   "source": [
    "# Lets use BERT encoder on our data\n",
    "\n",
    "train_input = bert_encode(train.premise.values, train.hypothesis.values, tokenizer)\n",
    "train_input_shuffled = bert_encode(shuffled_train.premise.values, shuffled_train.hypothesis.values, tokenizer)\n"
   ]
  },
  {
   "cell_type": "code",
   "execution_count": 19,
   "id": "4921d550",
   "metadata": {
    "execution": {
     "iopub.execute_input": "2023-03-13T22:35:11.165152Z",
     "iopub.status.busy": "2023-03-13T22:35:11.164698Z",
     "iopub.status.idle": "2023-03-13T22:35:11.174283Z",
     "shell.execute_reply": "2023-03-13T22:35:11.173041Z"
    },
    "papermill": {
     "duration": 0.024417,
     "end_time": "2023-03-13T22:35:11.176516",
     "exception": false,
     "start_time": "2023-03-13T22:35:11.152099",
     "status": "completed"
    },
    "tags": []
   },
   "outputs": [],
   "source": [
    "# Define the model\n",
    "\n",
    "max_len = 50\n",
    "\n",
    "def build_model():\n",
    "    \n",
    "    # TPU management\n",
    "    tpu = tf.distribute.cluster_resolver.TPUClusterResolver()\n",
    "    tf.config.experimental_connect_to_cluster(tpu)\n",
    "    tf.tpu.experimental.initialize_tpu_system(tpu)\n",
    "    strategy = tf.distribute.experimental.TPUStrategy(tpu)\n",
    "    \n",
    "    bert_encoder = TFBertModel.from_pretrained(model_name)\n",
    "    input_word_ids = tf.keras.Input(shape=(max_len,), dtype=tf.int32, name=\"input_word_ids\")\n",
    "    input_mask = tf.keras.Input(shape=(max_len,), dtype=tf.int32, name=\"input_mask\")\n",
    "    input_type_ids = tf.keras.Input(shape=(max_len,), dtype=tf.int32, name=\"input_type_ids\")\n",
    "    \n",
    "    # We need embedding because I had some problems with size afterwards\n",
    "    \n",
    "    embedding = bert_encoder([input_word_ids, input_mask, input_type_ids])[0]\n",
    "    output = tf.keras.layers.Dense(3, activation='softmax')(embedding[:,0,:])\n",
    "    \n",
    "    model = tf.keras.Model(inputs=[input_word_ids, input_mask, input_type_ids], outputs=output)\n",
    "    model.compile(tf.keras.optimizers.Adam(lr=0.00017), loss='sparse_categorical_crossentropy', metrics=['accuracy'])\n",
    "    \n",
    "    \n",
    "    return model"
   ]
  },
  {
   "cell_type": "code",
   "execution_count": 20,
   "id": "8fdbcd91",
   "metadata": {
    "execution": {
     "iopub.execute_input": "2023-03-13T22:35:11.200687Z",
     "iopub.status.busy": "2023-03-13T22:35:11.200276Z",
     "iopub.status.idle": "2023-03-13T22:35:48.137774Z",
     "shell.execute_reply": "2023-03-13T22:35:48.135838Z"
    },
    "papermill": {
     "duration": 36.952733,
     "end_time": "2023-03-13T22:35:48.140463",
     "exception": false,
     "start_time": "2023-03-13T22:35:11.187730",
     "status": "completed"
    },
    "tags": []
   },
   "outputs": [
    {
     "data": {
      "application/vnd.jupyter.widget-view+json": {
       "model_id": "7092388ae6974ca0b9c7e05a04b2bbbc",
       "version_major": 2,
       "version_minor": 0
      },
      "text/plain": [
       "Downloading (…)\"tf_model.h5\";:   0%|          | 0.00/1.08G [00:00<?, ?B/s]"
      ]
     },
     "metadata": {},
     "output_type": "display_data"
    },
    {
     "name": "stderr",
     "output_type": "stream",
     "text": [
      "Some layers from the model checkpoint at bert-base-multilingual-cased were not used when initializing TFBertModel: ['mlm___cls', 'nsp___cls']\n",
      "- This IS expected if you are initializing TFBertModel from the checkpoint of a model trained on another task or with another architecture (e.g. initializing a BertForSequenceClassification model from a BertForPreTraining model).\n",
      "- This IS NOT expected if you are initializing TFBertModel from the checkpoint of a model that you expect to be exactly identical (initializing a BertForSequenceClassification model from a BertForSequenceClassification model).\n",
      "All the layers of TFBertModel were initialized from the model checkpoint at bert-base-multilingual-cased.\n",
      "If your task is similar to the task the model of the checkpoint was trained on, you can already use TFBertModel for predictions without further training.\n"
     ]
    },
    {
     "name": "stdout",
     "output_type": "stream",
     "text": [
      "Model: \"model\"\n",
      "__________________________________________________________________________________________________\n",
      " Layer (type)                   Output Shape         Param #     Connected to                     \n",
      "==================================================================================================\n",
      " input_word_ids (InputLayer)    [(None, 50)]         0           []                               \n",
      "                                                                                                  \n",
      " input_mask (InputLayer)        [(None, 50)]         0           []                               \n",
      "                                                                                                  \n",
      " input_type_ids (InputLayer)    [(None, 50)]         0           []                               \n",
      "                                                                                                  \n",
      " tf_bert_model (TFBertModel)    TFBaseModelOutputWi  177853440   ['input_word_ids[0][0]',         \n",
      "                                thPoolingAndCrossAt               'input_mask[0][0]',             \n",
      "                                tentions(last_hidde               'input_type_ids[0][0]']         \n",
      "                                n_state=(None, 50,                                                \n",
      "                                768),                                                             \n",
      "                                 pooler_output=(Non                                               \n",
      "                                e, 768),                                                          \n",
      "                                 past_key_values=No                                               \n",
      "                                ne, hidden_states=N                                               \n",
      "                                one, attentions=Non                                               \n",
      "                                e, cross_attentions                                               \n",
      "                                =None)                                                            \n",
      "                                                                                                  \n",
      " tf.__operators__.getitem (Slic  (None, 768)         0           ['tf_bert_model[0][0]']          \n",
      " ingOpLambda)                                                                                     \n",
      "                                                                                                  \n",
      " dense (Dense)                  (None, 3)            2307        ['tf.__operators__.getitem[0][0]'\n",
      "                                                                 ]                                \n",
      "                                                                                                  \n",
      "==================================================================================================\n",
      "Total params: 177,855,747\n",
      "Trainable params: 177,855,747\n",
      "Non-trainable params: 0\n",
      "__________________________________________________________________________________________________\n"
     ]
    }
   ],
   "source": [
    "# Lets build the model and display a summary\n",
    "with strategy.scope():\n",
    "    model = build_model()\n",
    "    model.summary()\n"
   ]
  },
  {
   "cell_type": "code",
   "execution_count": 21,
   "id": "5619f916",
   "metadata": {
    "execution": {
     "iopub.execute_input": "2023-03-13T22:35:48.169640Z",
     "iopub.status.busy": "2023-03-13T22:35:48.169251Z",
     "iopub.status.idle": "2023-03-13T22:38:58.978328Z",
     "shell.execute_reply": "2023-03-13T22:38:58.977129Z"
    },
    "papermill": {
     "duration": 190.826502,
     "end_time": "2023-03-13T22:38:58.980686",
     "exception": false,
     "start_time": "2023-03-13T22:35:48.154184",
     "status": "completed"
    },
    "tags": []
   },
   "outputs": [
    {
     "name": "stdout",
     "output_type": "stream",
     "text": [
      "Epoch 1/4\n",
      "152/152 [==============================] - 155s 504ms/step - loss: 1.2826 - accuracy: 0.3293 - val_loss: 1.1160 - val_accuracy: 0.3362\n",
      "Epoch 2/4\n",
      "152/152 [==============================] - 12s 77ms/step - loss: 1.1210 - accuracy: 0.3310 - val_loss: 1.1468 - val_accuracy: 0.3531\n",
      "Epoch 3/4\n",
      "152/152 [==============================] - 12s 76ms/step - loss: 1.1195 - accuracy: 0.3292 - val_loss: 1.1391 - val_accuracy: 0.3531\n",
      "Epoch 4/4\n",
      "152/152 [==============================] - 12s 76ms/step - loss: 1.1112 - accuracy: 0.3380 - val_loss: 1.1051 - val_accuracy: 0.3106\n"
     ]
    },
    {
     "data": {
      "text/plain": [
       "<keras.callbacks.History at 0x7f48882c0d10>"
      ]
     },
     "execution_count": 21,
     "metadata": {},
     "output_type": "execute_result"
    }
   ],
   "source": [
    "# Lets train the model with original train data\n",
    "model.fit(train_input, train.label.values, epochs = 4, verbose = 1, batch_size = 64, validation_split = 0.2)\n"
   ]
  },
  {
   "cell_type": "code",
   "execution_count": 22,
   "id": "02519e6c",
   "metadata": {
    "execution": {
     "iopub.execute_input": "2023-03-13T22:38:59.077799Z",
     "iopub.status.busy": "2023-03-13T22:38:59.077440Z",
     "iopub.status.idle": "2023-03-13T22:39:47.120948Z",
     "shell.execute_reply": "2023-03-13T22:39:47.119672Z"
    },
    "papermill": {
     "duration": 48.094862,
     "end_time": "2023-03-13T22:39:47.123472",
     "exception": false,
     "start_time": "2023-03-13T22:38:59.028610",
     "status": "completed"
    },
    "tags": []
   },
   "outputs": [
    {
     "name": "stdout",
     "output_type": "stream",
     "text": [
      "Epoch 1/4\n",
      "152/152 [==============================] - 12s 78ms/step - loss: 1.1090 - accuracy: 0.3369 - val_loss: 1.1382 - val_accuracy: 0.3346\n",
      "Epoch 2/4\n",
      "152/152 [==============================] - 12s 77ms/step - loss: 1.1121 - accuracy: 0.3322 - val_loss: 1.1329 - val_accuracy: 0.3073\n",
      "Epoch 3/4\n",
      "152/152 [==============================] - 12s 78ms/step - loss: 1.1125 - accuracy: 0.3425 - val_loss: 1.1079 - val_accuracy: 0.3346\n",
      "Epoch 4/4\n",
      "152/152 [==============================] - 12s 78ms/step - loss: 1.1053 - accuracy: 0.3347 - val_loss: 1.0982 - val_accuracy: 0.3581\n"
     ]
    },
    {
     "data": {
      "text/plain": [
       "<keras.callbacks.History at 0x7f4888582b90>"
      ]
     },
     "execution_count": 22,
     "metadata": {},
     "output_type": "execute_result"
    }
   ],
   "source": [
    "# Lets train the model with shuffled train data\n",
    "model.fit(train_input_shuffled, shuffled_train.label.values, epochs = 4, verbose = 1, batch_size = 64, validation_split = 0.2)\n"
   ]
  },
  {
   "cell_type": "code",
   "execution_count": 23,
   "id": "efcc0502",
   "metadata": {
    "execution": {
     "iopub.execute_input": "2023-03-13T22:39:47.289357Z",
     "iopub.status.busy": "2023-03-13T22:39:47.288961Z",
     "iopub.status.idle": "2023-03-13T22:39:58.444550Z",
     "shell.execute_reply": "2023-03-13T22:39:58.442405Z"
    },
    "papermill": {
     "duration": 11.241597,
     "end_time": "2023-03-13T22:39:58.447454",
     "exception": false,
     "start_time": "2023-03-13T22:39:47.205857",
     "status": "completed"
    },
    "tags": []
   },
   "outputs": [],
   "source": [
    "# Read in test data\n",
    "test = pd.read_csv(\"../input/contradictory-my-dear-watson/test.csv\")\n",
    "test_input = bert_encode(test.premise.values, test.hypothesis.values, tokenizer)"
   ]
  },
  {
   "cell_type": "code",
   "execution_count": 24,
   "id": "77584b2b",
   "metadata": {
    "execution": {
     "iopub.execute_input": "2023-03-13T22:39:58.613104Z",
     "iopub.status.busy": "2023-03-13T22:39:58.612754Z",
     "iopub.status.idle": "2023-03-13T22:39:58.624443Z",
     "shell.execute_reply": "2023-03-13T22:39:58.623413Z"
    },
    "papermill": {
     "duration": 0.096549,
     "end_time": "2023-03-13T22:39:58.626448",
     "exception": false,
     "start_time": "2023-03-13T22:39:58.529899",
     "status": "completed"
    },
    "tags": []
   },
   "outputs": [
    {
     "data": {
      "text/html": [
       "<div>\n",
       "<style scoped>\n",
       "    .dataframe tbody tr th:only-of-type {\n",
       "        vertical-align: middle;\n",
       "    }\n",
       "\n",
       "    .dataframe tbody tr th {\n",
       "        vertical-align: top;\n",
       "    }\n",
       "\n",
       "    .dataframe thead th {\n",
       "        text-align: right;\n",
       "    }\n",
       "</style>\n",
       "<table border=\"1\" class=\"dataframe\">\n",
       "  <thead>\n",
       "    <tr style=\"text-align: right;\">\n",
       "      <th></th>\n",
       "      <th>id</th>\n",
       "      <th>premise</th>\n",
       "      <th>hypothesis</th>\n",
       "      <th>lang_abv</th>\n",
       "      <th>language</th>\n",
       "    </tr>\n",
       "  </thead>\n",
       "  <tbody>\n",
       "    <tr>\n",
       "      <th>0</th>\n",
       "      <td>c6d58c3f69</td>\n",
       "      <td>بکس، کیسی، راہیل، یسعیاہ، کیلی، کیلی، اور کولم...</td>\n",
       "      <td>کیسی کے لئے کوئی یادگار نہیں ہوگا, کولمین ہائی...</td>\n",
       "      <td>ur</td>\n",
       "      <td>Urdu</td>\n",
       "    </tr>\n",
       "    <tr>\n",
       "      <th>1</th>\n",
       "      <td>cefcc82292</td>\n",
       "      <td>هذا هو ما تم نصحنا به.</td>\n",
       "      <td>عندما يتم إخبارهم بما يجب عليهم فعله ، فشلت ال...</td>\n",
       "      <td>ar</td>\n",
       "      <td>Arabic</td>\n",
       "    </tr>\n",
       "    <tr>\n",
       "      <th>2</th>\n",
       "      <td>e98005252c</td>\n",
       "      <td>et cela est en grande partie dû au fait que le...</td>\n",
       "      <td>Les mères se droguent.</td>\n",
       "      <td>fr</td>\n",
       "      <td>French</td>\n",
       "    </tr>\n",
       "    <tr>\n",
       "      <th>3</th>\n",
       "      <td>58518c10ba</td>\n",
       "      <td>与城市及其他公民及社区组织代表就IMA的艺术发展进行对话&amp;amp</td>\n",
       "      <td>IMA与其他组织合作，因为它们都依靠共享资金。</td>\n",
       "      <td>zh</td>\n",
       "      <td>Chinese</td>\n",
       "    </tr>\n",
       "    <tr>\n",
       "      <th>4</th>\n",
       "      <td>c32b0d16df</td>\n",
       "      <td>Она все еще была там.</td>\n",
       "      <td>Мы думали, что она ушла, однако, она осталась.</td>\n",
       "      <td>ru</td>\n",
       "      <td>Russian</td>\n",
       "    </tr>\n",
       "  </tbody>\n",
       "</table>\n",
       "</div>"
      ],
      "text/plain": [
       "           id                                            premise  \\\n",
       "0  c6d58c3f69  بکس، کیسی، راہیل، یسعیاہ، کیلی، کیلی، اور کولم...   \n",
       "1  cefcc82292                             هذا هو ما تم نصحنا به.   \n",
       "2  e98005252c  et cela est en grande partie dû au fait que le...   \n",
       "3  58518c10ba                   与城市及其他公民及社区组织代表就IMA的艺术发展进行对话&amp   \n",
       "4  c32b0d16df                              Она все еще была там.   \n",
       "\n",
       "                                          hypothesis lang_abv language  \n",
       "0  کیسی کے لئے کوئی یادگار نہیں ہوگا, کولمین ہائی...       ur     Urdu  \n",
       "1  عندما يتم إخبارهم بما يجب عليهم فعله ، فشلت ال...       ar   Arabic  \n",
       "2                             Les mères se droguent.       fr   French  \n",
       "3                            IMA与其他组织合作，因为它们都依靠共享资金。       zh  Chinese  \n",
       "4     Мы думали, что она ушла, однако, она осталась.       ru  Russian  "
      ]
     },
     "execution_count": 24,
     "metadata": {},
     "output_type": "execute_result"
    }
   ],
   "source": [
    "# Lets see how the table looks like\n",
    "test.head()"
   ]
  },
  {
   "cell_type": "code",
   "execution_count": 25,
   "id": "28f51075",
   "metadata": {
    "execution": {
     "iopub.execute_input": "2023-03-13T22:39:58.794312Z",
     "iopub.status.busy": "2023-03-13T22:39:58.793943Z",
     "iopub.status.idle": "2023-03-13T22:39:58.821564Z",
     "shell.execute_reply": "2023-03-13T22:39:58.820283Z"
    },
    "papermill": {
     "duration": 0.113895,
     "end_time": "2023-03-13T22:39:58.823631",
     "exception": false,
     "start_time": "2023-03-13T22:39:58.709736",
     "status": "completed"
    },
    "tags": []
   },
   "outputs": [
    {
     "data": {
      "text/html": [
       "<div>\n",
       "<style scoped>\n",
       "    .dataframe tbody tr th:only-of-type {\n",
       "        vertical-align: middle;\n",
       "    }\n",
       "\n",
       "    .dataframe tbody tr th {\n",
       "        vertical-align: top;\n",
       "    }\n",
       "\n",
       "    .dataframe thead th {\n",
       "        text-align: right;\n",
       "    }\n",
       "</style>\n",
       "<table border=\"1\" class=\"dataframe\">\n",
       "  <thead>\n",
       "    <tr style=\"text-align: right;\">\n",
       "      <th></th>\n",
       "      <th>id</th>\n",
       "      <th>premise</th>\n",
       "      <th>hypothesis</th>\n",
       "      <th>lang_abv</th>\n",
       "      <th>language</th>\n",
       "    </tr>\n",
       "  </thead>\n",
       "  <tbody>\n",
       "    <tr>\n",
       "      <th>count</th>\n",
       "      <td>5195</td>\n",
       "      <td>5195</td>\n",
       "      <td>5195</td>\n",
       "      <td>5195</td>\n",
       "      <td>5195</td>\n",
       "    </tr>\n",
       "    <tr>\n",
       "      <th>unique</th>\n",
       "      <td>5195</td>\n",
       "      <td>4336</td>\n",
       "      <td>5195</td>\n",
       "      <td>15</td>\n",
       "      <td>15</td>\n",
       "    </tr>\n",
       "    <tr>\n",
       "      <th>top</th>\n",
       "      <td>c6d58c3f69</td>\n",
       "      <td>The movie isn't clear on where the secret repo...</td>\n",
       "      <td>کیسی کے لئے کوئی یادگار نہیں ہوگا, کولمین ہائی...</td>\n",
       "      <td>en</td>\n",
       "      <td>English</td>\n",
       "    </tr>\n",
       "    <tr>\n",
       "      <th>freq</th>\n",
       "      <td>1</td>\n",
       "      <td>3</td>\n",
       "      <td>1</td>\n",
       "      <td>2945</td>\n",
       "      <td>2945</td>\n",
       "    </tr>\n",
       "  </tbody>\n",
       "</table>\n",
       "</div>"
      ],
      "text/plain": [
       "                id                                            premise  \\\n",
       "count         5195                                               5195   \n",
       "unique        5195                                               4336   \n",
       "top     c6d58c3f69  The movie isn't clear on where the secret repo...   \n",
       "freq             1                                                  3   \n",
       "\n",
       "                                               hypothesis lang_abv language  \n",
       "count                                                5195     5195     5195  \n",
       "unique                                               5195       15       15  \n",
       "top     کیسی کے لئے کوئی یادگار نہیں ہوگا, کولمین ہائی...       en  English  \n",
       "freq                                                    1     2945     2945  "
      ]
     },
     "execution_count": 25,
     "metadata": {},
     "output_type": "execute_result"
    }
   ],
   "source": [
    "# Before going on with the work we should see if there is a need for clearing the data\n",
    "test.describe()"
   ]
  },
  {
   "cell_type": "code",
   "execution_count": 26,
   "id": "3b733274",
   "metadata": {
    "execution": {
     "iopub.execute_input": "2023-03-13T22:39:58.988423Z",
     "iopub.status.busy": "2023-03-13T22:39:58.988006Z",
     "iopub.status.idle": "2023-03-13T22:39:58.995430Z",
     "shell.execute_reply": "2023-03-13T22:39:58.994285Z"
    },
    "papermill": {
     "duration": 0.092125,
     "end_time": "2023-03-13T22:39:58.997400",
     "exception": false,
     "start_time": "2023-03-13T22:39:58.905275",
     "status": "completed"
    },
    "tags": []
   },
   "outputs": [
    {
     "data": {
      "text/plain": [
       "(5195, 5)"
      ]
     },
     "execution_count": 26,
     "metadata": {},
     "output_type": "execute_result"
    }
   ],
   "source": [
    "# We have explored the data, lets try to find if there is any need for clearing it up\n",
    "test.shape"
   ]
  },
  {
   "cell_type": "code",
   "execution_count": 27,
   "id": "be0da5d8",
   "metadata": {
    "execution": {
     "iopub.execute_input": "2023-03-13T22:39:59.164368Z",
     "iopub.status.busy": "2023-03-13T22:39:59.162818Z",
     "iopub.status.idle": "2023-03-13T22:39:59.171841Z",
     "shell.execute_reply": "2023-03-13T22:39:59.170757Z"
    },
    "papermill": {
     "duration": 0.094926,
     "end_time": "2023-03-13T22:39:59.173739",
     "exception": false,
     "start_time": "2023-03-13T22:39:59.078813",
     "status": "completed"
    },
    "tags": []
   },
   "outputs": [
    {
     "data": {
      "text/plain": [
       "False"
      ]
     },
     "metadata": {},
     "output_type": "display_data"
    }
   ],
   "source": [
    "# We have 5195 rows and 5 columns since the label column is missing\n",
    "# Lets see if there are any empty fields\n",
    "missing_test = test.isnull().values.any()\n",
    "display(missing_test)"
   ]
  },
  {
   "cell_type": "code",
   "execution_count": 28,
   "id": "32b5221b",
   "metadata": {
    "execution": {
     "iopub.execute_input": "2023-03-13T22:39:59.338668Z",
     "iopub.status.busy": "2023-03-13T22:39:59.338284Z",
     "iopub.status.idle": "2023-03-13T22:39:59.355464Z",
     "shell.execute_reply": "2023-03-13T22:39:59.354207Z"
    },
    "papermill": {
     "duration": 0.102269,
     "end_time": "2023-03-13T22:39:59.357796",
     "exception": false,
     "start_time": "2023-03-13T22:39:59.255527",
     "status": "completed"
    },
    "tags": []
   },
   "outputs": [
    {
     "data": {
      "text/plain": [
       "(5195, 5)"
      ]
     },
     "execution_count": 28,
     "metadata": {},
     "output_type": "execute_result"
    }
   ],
   "source": [
    "# There are no missing fields\n",
    "# If there are any duplicates we should remove them\n",
    "test = test.drop_duplicates(subset=['premise', 'hypothesis']).sample(frac=1, random_state=42, ignore_index=True)\n",
    "test.shape"
   ]
  },
  {
   "cell_type": "code",
   "execution_count": 29,
   "id": "9b89355c",
   "metadata": {
    "execution": {
     "iopub.execute_input": "2023-03-13T22:39:59.527247Z",
     "iopub.status.busy": "2023-03-13T22:39:59.525750Z",
     "iopub.status.idle": "2023-03-13T22:39:59.531335Z",
     "shell.execute_reply": "2023-03-13T22:39:59.530191Z"
    },
    "papermill": {
     "duration": 0.092027,
     "end_time": "2023-03-13T22:39:59.533589",
     "exception": false,
     "start_time": "2023-03-13T22:39:59.441562",
     "status": "completed"
    },
    "tags": []
   },
   "outputs": [],
   "source": [
    "# Since the shape remains the same we can conclude that there were no duplicates"
   ]
  },
  {
   "cell_type": "code",
   "execution_count": 30,
   "id": "dfac4fce",
   "metadata": {
    "execution": {
     "iopub.execute_input": "2023-03-13T22:39:59.702086Z",
     "iopub.status.busy": "2023-03-13T22:39:59.701709Z",
     "iopub.status.idle": "2023-03-13T22:39:59.931229Z",
     "shell.execute_reply": "2023-03-13T22:39:59.930202Z"
    },
    "papermill": {
     "duration": 0.317594,
     "end_time": "2023-03-13T22:39:59.933755",
     "exception": false,
     "start_time": "2023-03-13T22:39:59.616161",
     "status": "completed"
    },
    "tags": []
   },
   "outputs": [
    {
     "data": {
      "image/png": "[encoded data removed]",
      "text/plain": [
       "<Figure size 1000x1000 with 1 Axes>"
      ]
     },
     "metadata": {},
     "output_type": "display_data"
    }
   ],
   "source": [
    "# How are the languages distributed\n",
    "\n",
    "labels, frequencies = np.unique(test.language.values, return_counts = True)\n",
    "\n",
    "plt.figure(figsize = (10,10))\n",
    "plt.pie(frequencies,labels = labels, autopct = '%1.1f%%')\n",
    "plt.show()"
   ]
  },
  {
   "cell_type": "code",
   "execution_count": 31,
   "id": "7c6e3b1a",
   "metadata": {
    "execution": {
     "iopub.execute_input": "2023-03-13T22:40:00.106655Z",
     "iopub.status.busy": "2023-03-13T22:40:00.105734Z",
     "iopub.status.idle": "2023-03-13T22:40:00.110697Z",
     "shell.execute_reply": "2023-03-13T22:40:00.109739Z"
    },
    "papermill": {
     "duration": 0.093437,
     "end_time": "2023-03-13T22:40:00.112611",
     "exception": false,
     "start_time": "2023-03-13T22:40:00.019174",
     "status": "completed"
    },
    "tags": []
   },
   "outputs": [],
   "source": [
    "# The language distribution is similar to the train dataset"
   ]
  },
  {
   "cell_type": "code",
   "execution_count": 32,
   "id": "76c12007",
   "metadata": {
    "execution": {
     "iopub.execute_input": "2023-03-13T22:40:00.339567Z",
     "iopub.status.busy": "2023-03-13T22:40:00.338920Z",
     "iopub.status.idle": "2023-03-13T22:40:15.958054Z",
     "shell.execute_reply": "2023-03-13T22:40:15.956925Z"
    },
    "papermill": {
     "duration": 15.708117,
     "end_time": "2023-03-13T22:40:15.960699",
     "exception": false,
     "start_time": "2023-03-13T22:40:00.252582",
     "status": "completed"
    },
    "tags": []
   },
   "outputs": [
    {
     "name": "stdout",
     "output_type": "stream",
     "text": [
      "163/163 [==============================] - 15s 73ms/step\n"
     ]
    }
   ],
   "source": [
    "# Lets generate predictions for test data\n",
    "predictions = [np.argmax(i) for i in model.predict(test_input)]"
   ]
  },
  {
   "cell_type": "code",
   "execution_count": 33,
   "id": "639cfd64",
   "metadata": {
    "execution": {
     "iopub.execute_input": "2023-03-13T22:40:16.310903Z",
     "iopub.status.busy": "2023-03-13T22:40:16.310493Z",
     "iopub.status.idle": "2023-03-13T22:40:16.319509Z",
     "shell.execute_reply": "2023-03-13T22:40:16.318087Z"
    },
    "papermill": {
     "duration": 0.100781,
     "end_time": "2023-03-13T22:40:16.321848",
     "exception": false,
     "start_time": "2023-03-13T22:40:16.221067",
     "status": "completed"
    },
    "tags": []
   },
   "outputs": [],
   "source": [
    "# Lets put this into the submission format\n",
    "submission = test.id.copy().to_frame()\n",
    "submission['prediction'] = predictions"
   ]
  },
  {
   "cell_type": "code",
   "execution_count": 34,
   "id": "a43e45ff",
   "metadata": {
    "execution": {
     "iopub.execute_input": "2023-03-13T22:40:16.497585Z",
     "iopub.status.busy": "2023-03-13T22:40:16.497199Z",
     "iopub.status.idle": "2023-03-13T22:40:16.510307Z",
     "shell.execute_reply": "2023-03-13T22:40:16.509215Z"
    },
    "papermill": {
     "duration": 0.104358,
     "end_time": "2023-03-13T22:40:16.513213",
     "exception": false,
     "start_time": "2023-03-13T22:40:16.408855",
     "status": "completed"
    },
    "tags": []
   },
   "outputs": [
    {
     "data": {
      "text/html": [
       "<div>\n",
       "<style scoped>\n",
       "    .dataframe tbody tr th:only-of-type {\n",
       "        vertical-align: middle;\n",
       "    }\n",
       "\n",
       "    .dataframe tbody tr th {\n",
       "        vertical-align: top;\n",
       "    }\n",
       "\n",
       "    .dataframe thead th {\n",
       "        text-align: right;\n",
       "    }\n",
       "</style>\n",
       "<table border=\"1\" class=\"dataframe\">\n",
       "  <thead>\n",
       "    <tr style=\"text-align: right;\">\n",
       "      <th></th>\n",
       "      <th>id</th>\n",
       "      <th>prediction</th>\n",
       "    </tr>\n",
       "  </thead>\n",
       "  <tbody>\n",
       "    <tr>\n",
       "      <th>0</th>\n",
       "      <td>466ab2432d</td>\n",
       "      <td>0</td>\n",
       "    </tr>\n",
       "    <tr>\n",
       "      <th>1</th>\n",
       "      <td>e7ca02b50f</td>\n",
       "      <td>0</td>\n",
       "    </tr>\n",
       "    <tr>\n",
       "      <th>2</th>\n",
       "      <td>a19fa9b83e</td>\n",
       "      <td>0</td>\n",
       "    </tr>\n",
       "    <tr>\n",
       "      <th>3</th>\n",
       "      <td>6afa181ca6</td>\n",
       "      <td>0</td>\n",
       "    </tr>\n",
       "    <tr>\n",
       "      <th>4</th>\n",
       "      <td>e79d56d80c</td>\n",
       "      <td>0</td>\n",
       "    </tr>\n",
       "  </tbody>\n",
       "</table>\n",
       "</div>"
      ],
      "text/plain": [
       "           id  prediction\n",
       "0  466ab2432d           0\n",
       "1  e7ca02b50f           0\n",
       "2  a19fa9b83e           0\n",
       "3  6afa181ca6           0\n",
       "4  e79d56d80c           0"
      ]
     },
     "execution_count": 34,
     "metadata": {},
     "output_type": "execute_result"
    }
   ],
   "source": [
    "# Check if everything is ok\n",
    "submission.head()"
   ]
  },
  {
   "cell_type": "code",
   "execution_count": 35,
   "id": "cc37bf22",
   "metadata": {
    "execution": {
     "iopub.execute_input": "2023-03-13T22:40:16.690808Z",
     "iopub.status.busy": "2023-03-13T22:40:16.689456Z",
     "iopub.status.idle": "2023-03-13T22:40:16.706575Z",
     "shell.execute_reply": "2023-03-13T22:40:16.705017Z"
    },
    "papermill": {
     "duration": 0.108118,
     "end_time": "2023-03-13T22:40:16.708780",
     "exception": false,
     "start_time": "2023-03-13T22:40:16.600662",
     "status": "completed"
    },
    "tags": []
   },
   "outputs": [],
   "source": [
    "# Save to csv \n",
    "submission.to_csv(\"submission.csv\", index = False)"
   ]
  },
  {
   "cell_type": "code",
   "execution_count": null,
   "id": "3b0763e5",
   "metadata": {
    "papermill": {
     "duration": 0.088153,
     "end_time": "2023-03-13T22:40:17.059903",
     "exception": false,
     "start_time": "2023-03-13T22:40:16.971750",
     "status": "completed"
    },
    "tags": []
   },
   "outputs": [],
   "source": []
  }
 ],
 "metadata": {
  "kernelspec": {
   "display_name": "Python 3 (ipykernel)",
   "language": "python",
   "name": "python3"
  },
  "language_info": {
   "codemirror_mode": {
    "name": "ipython",
    "version": 3
   },
   "file_extension": ".py",
   "mimetype": "text/x-python",
   "name": "python",
   "nbconvert_exporter": "python",
   "pygments_lexer": "ipython3",
   "version": "3.9.12"
  },
  "papermill": {
   "default_parameters": {},
   "duration": 401.201232,
   "end_time": "2023-03-13T22:40:20.709051",
   "environment_variables": {},
   "exception": null,
   "input_path": "__notebook__.ipynb",
   "output_path": "__notebook__.ipynb",
   "parameters": {},
   "start_time": "2023-03-13T22:33:39.507819",
   "version": "2.4.0"
  },
  "widgets": {
   "application/vnd.jupyter.widget-state+json": {
    "state": {
     "04ac4df8b9e94204a40825b61b7c046d": {
      "model_module": "@jupyter-widgets/controls",
      "model_module_version": "1.5.0",
      "model_name": "ProgressStyleModel",
      "state": {
       "_model_module": "@jupyter-widgets/controls",
       "_model_module_version": "1.5.0",
       "_model_name": "ProgressStyleModel",
       "_view_count": null,
       "_view_module": "@jupyter-widgets/base",
       "_view_module_version": "1.2.0",
       "_view_name": "StyleView",
       "bar_color": null,
       "description_width": ""
      }
     },
     "1b8848ea2c8a4a5cb622a0d168f4d076": {
      "model_module": "@jupyter-widgets/base",
      "model_module_version": "1.2.0",
      "model_name": "LayoutModel",
      "state": {
       "_model_module": "@jupyter-widgets/base",
       "_model_module_version": "1.2.0",
       "_model_name": "LayoutModel",
       "_view_count": null,
       "_view_module": "@jupyter-widgets/base",
       "_view_module_version": "1.2.0",
       "_view_name": "LayoutView",
       "align_content": null,
       "align_items": null,
       "align_self": null,
       "border": null,
       "bottom": null,
       "display": null,
       "flex": null,
       "flex_flow": null,
       "grid_area": null,
       "grid_auto_columns": null,
       "grid_auto_flow": null,
       "grid_auto_rows": null,
       "grid_column": null,
       "grid_gap": null,
       "grid_row": null,
       "grid_template_areas": null,
       "grid_template_columns": null,
       "grid_template_rows": null,
       "height": null,
       "justify_content": null,
       "justify_items": null,
       "left": null,
       "margin": null,
       "max_height": null,
       "max_width": null,
       "min_height": null,
       "min_width": null,
       "object_fit": null,
       "object_position": null,
       "order": null,
       "overflow": null,
       "overflow_x": null,
       "overflow_y": null,
       "padding": null,
       "right": null,
       "top": null,
       "visibility": null,
       "width": null
      }
     },
     "284ba0e8ce114acf816a888271647639": {
      "model_module": "@jupyter-widgets/controls",
      "model_module_version": "1.5.0",
      "model_name": "DescriptionStyleModel",
      "state": {
       "_model_module": "@jupyter-widgets/controls",
       "_model_module_version": "1.5.0",
       "_model_name": "DescriptionStyleModel",
       "_view_count": null,
       "_view_module": "@jupyter-widgets/base",
       "_view_module_version": "1.2.0",
       "_view_name": "StyleView",
       "description_width": ""
      }
     },
     "371a8cc8b1ef4bc98174f7d4a505b435": {
      "model_module": "@jupyter-widgets/controls",
      "model_module_version": "1.5.0",
      "model_name": "FloatProgressModel",
      "state": {
       "_dom_classes": [],
       "_model_module": "@jupyter-widgets/controls",
       "_model_module_version": "1.5.0",
       "_model_name": "FloatProgressModel",
       "_view_count": null,
       "_view_module": "@jupyter-widgets/controls",
       "_view_module_version": "1.5.0",
       "_view_name": "ProgressView",
       "bar_style": "success",
       "description": "",
       "description_tooltip": null,
       "layout": "IPY_MODEL_e2913b3fe9904f2a9a3eaa3d7dd1a49a",
       "max": 625,
       "min": 0,
       "orientation": "horizontal",
       "style": "IPY_MODEL_7d8fd669793e484799fb798d568f1e1a",
       "value": 625
      }
     },
     "3e0e670c9ba643048c78a4b85811caf8": {
      "model_module": "@jupyter-widgets/controls",
      "model_module_version": "1.5.0",
      "model_name": "DescriptionStyleModel",
      "state": {
       "_model_module": "@jupyter-widgets/controls",
       "_model_module_version": "1.5.0",
       "_model_name": "DescriptionStyleModel",
       "_view_count": null,
       "_view_module": "@jupyter-widgets/base",
       "_view_module_version": "1.2.0",
       "_view_name": "StyleView",
       "description_width": ""
      }
     },
     "469cd7a3baa540599b3b8c58a559d7b1": {
      "model_module": "@jupyter-widgets/controls",
      "model_module_version": "1.5.0",
      "model_name": "DescriptionStyleModel",
      "state": {
       "_model_module": "@jupyter-widgets/controls",
       "_model_module_version": "1.5.0",
       "_model_name": "DescriptionStyleModel",
       "_view_count": null,
       "_view_module": "@jupyter-widgets/base",
       "_view_module_version": "1.2.0",
       "_view_name": "StyleView",
       "description_width": ""
      }
     },
     "4ea0a548f53344539c0b66994b0e1627": {
      "model_module": "@jupyter-widgets/controls",
      "model_module_version": "1.5.0",
      "model_name": "DescriptionStyleModel",
      "state": {
       "_model_module": "@jupyter-widgets/controls",
       "_model_module_version": "1.5.0",
       "_model_name": "DescriptionStyleModel",
       "_view_count": null,
       "_view_module": "@jupyter-widgets/base",
       "_view_module_version": "1.2.0",
       "_view_name": "StyleView",
       "description_width": ""
      }
     },
     "4fa0530bad564312aeaedb82d262378c": {
      "model_module": "@jupyter-widgets/controls",
      "model_module_version": "1.5.0",
      "model_name": "HTMLModel",
      "state": {
       "_dom_classes": [],
       "_model_module": "@jupyter-widgets/controls",
       "_model_module_version": "1.5.0",
       "_model_name": "HTMLModel",
       "_view_count": null,
       "_view_module": "@jupyter-widgets/controls",
       "_view_module_version": "1.5.0",
       "_view_name": "HTMLView",
       "description": "",
       "description_tooltip": null,
       "layout": "IPY_MODEL_c96eb0e369e247d8bc1036fdad8cc207",
       "placeholder": "​",
       "style": "IPY_MODEL_4ea0a548f53344539c0b66994b0e1627",
       "value": "Downloading (…)solve/main/vocab.txt: 100%"
      }
     },
     "568bee50eca64c66b9c62cc1877a66b0": {
      "model_module": "@jupyter-widgets/controls",
      "model_module_version": "1.5.0",
      "model_name": "DescriptionStyleModel",
      "state": {
       "_model_module": "@jupyter-widgets/controls",
       "_model_module_version": "1.5.0",
       "_model_name": "DescriptionStyleModel",
       "_view_count": null,
       "_view_module": "@jupyter-widgets/base",
       "_view_module_version": "1.2.0",
       "_view_name": "StyleView",
       "description_width": ""
      }
     },
     "5a0c7652d1e8478795387caeb58a3495": {
      "model_module": "@jupyter-widgets/base",
      "model_module_version": "1.2.0",
      "model_name": "LayoutModel",
      "state": {
       "_model_module": "@jupyter-widgets/base",
       "_model_module_version": "1.2.0",
       "_model_name": "LayoutModel",
       "_view_count": null,
       "_view_module": "@jupyter-widgets/base",
       "_view_module_version": "1.2.0",
       "_view_name": "LayoutView",
       "align_content": null,
       "align_items": null,
       "align_self": null,
       "border": null,
       "bottom": null,
       "display": null,
       "flex": null,
       "flex_flow": null,
       "grid_area": null,
       "grid_auto_columns": null,
       "grid_auto_flow": null,
       "grid_auto_rows": null,
       "grid_column": null,
       "grid_gap": null,
       "grid_row": null,
       "grid_template_areas": null,
       "grid_template_columns": null,
       "grid_template_rows": null,
       "height": null,
       "justify_content": null,
       "justify_items": null,
       "left": null,
       "margin": null,
       "max_height": null,
       "max_width": null,
       "min_height": null,
       "min_width": null,
       "object_fit": null,
       "object_position": null,
       "order": null,
       "overflow": null,
       "overflow_x": null,
       "overflow_y": null,
       "padding": null,
       "right": null,
       "top": null,
       "visibility": null,
       "width": null
      }
     },
     "5c91cab2fb704269ba977d2fd188def5": {
      "model_module": "@jupyter-widgets/controls",
      "model_module_version": "1.5.0",
      "model_name": "HTMLModel",
      "state": {
       "_dom_classes": [],
       "_model_module": "@jupyter-widgets/controls",
       "_model_module_version": "1.5.0",
       "_model_name": "HTMLModel",
       "_view_count": null,
       "_view_module": "@jupyter-widgets/controls",
       "_view_module_version": "1.5.0",
       "_view_name": "HTMLView",
       "description": "",
       "description_tooltip": null,
       "layout": "IPY_MODEL_1b8848ea2c8a4a5cb622a0d168f4d076",
       "placeholder": "​",
       "style": "IPY_MODEL_3e0e670c9ba643048c78a4b85811caf8",
       "value": "Downloading (…)lve/main/config.json: 100%"
      }
     },
     "5c921d54c25f44eca30feba1f275f618": {
      "model_module": "@jupyter-widgets/controls",
      "model_module_version": "1.5.0",
      "model_name": "HTMLModel",
      "state": {
       "_dom_classes": [],
       "_model_module": "@jupyter-widgets/controls",
       "_model_module_version": "1.5.0",
       "_model_name": "HTMLModel",
       "_view_count": null,
       "_view_module": "@jupyter-widgets/controls",
       "_view_module_version": "1.5.0",
       "_view_name": "HTMLView",
       "description": "",
       "description_tooltip": null,
       "layout": "IPY_MODEL_a1ad5bcf68324e608df2b1b56972ad49",
       "placeholder": "​",
       "style": "IPY_MODEL_f8888f7d2b294c61a12838fe13fd2679",
       "value": " 1.08G/1.08G [00:04&lt;00:00, 222MB/s]"
      }
     },
     "5df4bd0000a443c98dba6b53df807b92": {
      "model_module": "@jupyter-widgets/controls",
      "model_module_version": "1.5.0",
      "model_name": "DescriptionStyleModel",
      "state": {
       "_model_module": "@jupyter-widgets/controls",
       "_model_module_version": "1.5.0",
       "_model_name": "DescriptionStyleModel",
       "_view_count": null,
       "_view_module": "@jupyter-widgets/base",
       "_view_module_version": "1.2.0",
       "_view_name": "StyleView",
       "description_width": ""
      }
     },
     "5e1a9c1cd32c42d2a9245475642c096d": {
      "model_module": "@jupyter-widgets/controls",
      "model_module_version": "1.5.0",
      "model_name": "ProgressStyleModel",
      "state": {
       "_model_module": "@jupyter-widgets/controls",
       "_model_module_version": "1.5.0",
       "_model_name": "ProgressStyleModel",
       "_view_count": null,
       "_view_module": "@jupyter-widgets/base",
       "_view_module_version": "1.2.0",
       "_view_name": "StyleView",
       "bar_color": null,
       "description_width": ""
      }
     },
     "65ea19d36a5e4f37bdac72594f5f6cb4": {
      "model_module": "@jupyter-widgets/base",
      "model_module_version": "1.2.0",
      "model_name": "LayoutModel",
      "state": {
       "_model_module": "@jupyter-widgets/base",
       "_model_module_version": "1.2.0",
       "_model_name": "LayoutModel",
       "_view_count": null,
       "_view_module": "@jupyter-widgets/base",
       "_view_module_version": "1.2.0",
       "_view_name": "LayoutView",
       "align_content": null,
       "align_items": null,
       "align_self": null,
       "border": null,
       "bottom": null,
       "display": null,
       "flex": null,
       "flex_flow": null,
       "grid_area": null,
       "grid_auto_columns": null,
       "grid_auto_flow": null,
       "grid_auto_rows": null,
       "grid_column": null,
       "grid_gap": null,
       "grid_row": null,
       "grid_template_areas": null,
       "grid_template_columns": null,
       "grid_template_rows": null,
       "height": null,
       "justify_content": null,
       "justify_items": null,
       "left": null,
       "margin": null,
       "max_height": null,
       "max_width": null,
       "min_height": null,
       "min_width": null,
       "object_fit": null,
       "object_position": null,
       "order": null,
       "overflow": null,
       "overflow_x": null,
       "overflow_y": null,
       "padding": null,
       "right": null,
       "top": null,
       "visibility": null,
       "width": null
      }
     },
     "6aabe76ba06b487d964f875f8bd5c072": {
      "model_module": "@jupyter-widgets/base",
      "model_module_version": "1.2.0",
      "model_name": "LayoutModel",
      "state": {
       "_model_module": "@jupyter-widgets/base",
       "_model_module_version": "1.2.0",
       "_model_name": "LayoutModel",
       "_view_count": null,
       "_view_module": "@jupyter-widgets/base",
       "_view_module_version": "1.2.0",
       "_view_name": "LayoutView",
       "align_content": null,
       "align_items": null,
       "align_self": null,
       "border": null,
       "bottom": null,
       "display": null,
       "flex": null,
       "flex_flow": null,
       "grid_area": null,
       "grid_auto_columns": null,
       "grid_auto_flow": null,
       "grid_auto_rows": null,
       "grid_column": null,
       "grid_gap": null,
       "grid_row": null,
       "grid_template_areas": null,
       "grid_template_columns": null,
       "grid_template_rows": null,
       "height": null,
       "justify_content": null,
       "justify_items": null,
       "left": null,
       "margin": null,
       "max_height": null,
       "max_width": null,
       "min_height": null,
       "min_width": null,
       "object_fit": null,
       "object_position": null,
       "order": null,
       "overflow": null,
       "overflow_x": null,
       "overflow_y": null,
       "padding": null,
       "right": null,
       "top": null,
       "visibility": null,
       "width": null
      }
     },
     "7092388ae6974ca0b9c7e05a04b2bbbc": {
      "model_module": "@jupyter-widgets/controls",
      "model_module_version": "1.5.0",
      "model_name": "HBoxModel",
      "state": {
       "_dom_classes": [],
       "_model_module": "@jupyter-widgets/controls",
       "_model_module_version": "1.5.0",
       "_model_name": "HBoxModel",
       "_view_count": null,
       "_view_module": "@jupyter-widgets/controls",
       "_view_module_version": "1.5.0",
       "_view_name": "HBoxView",
       "box_style": "",
       "children": [
        "IPY_MODEL_a746b6303c1c45ed9d86a642fd34ab99",
        "IPY_MODEL_ec373e391e134198842186ac62a06404",
        "IPY_MODEL_5c921d54c25f44eca30feba1f275f618"
       ],
       "layout": "IPY_MODEL_8adeac0b36c3456ba2ac774dcf476304"
      }
     },
     "7cc866238d95469c94eec81bd02fd597": {
      "model_module": "@jupyter-widgets/controls",
      "model_module_version": "1.5.0",
      "model_name": "HBoxModel",
      "state": {
       "_dom_classes": [],
       "_model_module": "@jupyter-widgets/controls",
       "_model_module_version": "1.5.0",
       "_model_name": "HBoxModel",
       "_view_count": null,
       "_view_module": "@jupyter-widgets/controls",
       "_view_module_version": "1.5.0",
       "_view_name": "HBoxView",
       "box_style": "",
       "children": [
        "IPY_MODEL_5c91cab2fb704269ba977d2fd188def5",
        "IPY_MODEL_371a8cc8b1ef4bc98174f7d4a505b435",
        "IPY_MODEL_c1534615a2d846ac9f73dd1f0c9e97e1"
       ],
       "layout": "IPY_MODEL_f37f2ec0d13c434baf9a52c8ed1b73f7"
      }
     },
     "7d8fd669793e484799fb798d568f1e1a": {
      "model_module": "@jupyter-widgets/controls",
      "model_module_version": "1.5.0",
      "model_name": "ProgressStyleModel",
      "state": {
       "_model_module": "@jupyter-widgets/controls",
       "_model_module_version": "1.5.0",
       "_model_name": "ProgressStyleModel",
       "_view_count": null,
       "_view_module": "@jupyter-widgets/base",
       "_view_module_version": "1.2.0",
       "_view_name": "StyleView",
       "bar_color": null,
       "description_width": ""
      }
     },
     "8adeac0b36c3456ba2ac774dcf476304": {
      "model_module": "@jupyter-widgets/base",
      "model_module_version": "1.2.0",
      "model_name": "LayoutModel",
      "state": {
       "_model_module": "@jupyter-widgets/base",
       "_model_module_version": "1.2.0",
       "_model_name": "LayoutModel",
       "_view_count": null,
       "_view_module": "@jupyter-widgets/base",
       "_view_module_version": "1.2.0",
       "_view_name": "LayoutView",
       "align_content": null,
       "align_items": null,
       "align_self": null,
       "border": null,
       "bottom": null,
       "display": null,
       "flex": null,
       "flex_flow": null,
       "grid_area": null,
       "grid_auto_columns": null,
       "grid_auto_flow": null,
       "grid_auto_rows": null,
       "grid_column": null,
       "grid_gap": null,
       "grid_row": null,
       "grid_template_areas": null,
       "grid_template_columns": null,
       "grid_template_rows": null,
       "height": null,
       "justify_content": null,
       "justify_items": null,
       "left": null,
       "margin": null,
       "max_height": null,
       "max_width": null,
       "min_height": null,
       "min_width": null,
       "object_fit": null,
       "object_position": null,
       "order": null,
       "overflow": null,
       "overflow_x": null,
       "overflow_y": null,
       "padding": null,
       "right": null,
       "top": null,
       "visibility": null,
       "width": null
      }
     },
     "984c4003b0c04b859f73eb5da1a6ee33": {
      "model_module": "@jupyter-widgets/controls",
      "model_module_version": "1.5.0",
      "model_name": "HTMLModel",
      "state": {
       "_dom_classes": [],
       "_model_module": "@jupyter-widgets/controls",
       "_model_module_version": "1.5.0",
       "_model_name": "HTMLModel",
       "_view_count": null,
       "_view_module": "@jupyter-widgets/controls",
       "_view_module_version": "1.5.0",
       "_view_name": "HTMLView",
       "description": "",
       "description_tooltip": null,
       "layout": "IPY_MODEL_6aabe76ba06b487d964f875f8bd5c072",
       "placeholder": "​",
       "style": "IPY_MODEL_568bee50eca64c66b9c62cc1877a66b0",
       "value": "Downloading (…)okenizer_config.json: 100%"
      }
     },
     "a1ad5bcf68324e608df2b1b56972ad49": {
      "model_module": "@jupyter-widgets/base",
      "model_module_version": "1.2.0",
      "model_name": "LayoutModel",
      "state": {
       "_model_module": "@jupyter-widgets/base",
       "_model_module_version": "1.2.0",
       "_model_name": "LayoutModel",
       "_view_count": null,
       "_view_module": "@jupyter-widgets/base",
       "_view_module_version": "1.2.0",
       "_view_name": "LayoutView",
       "align_content": null,
       "align_items": null,
       "align_self": null,
       "border": null,
       "bottom": null,
       "display": null,
       "flex": null,
       "flex_flow": null,
       "grid_area": null,
       "grid_auto_columns": null,
       "grid_auto_flow": null,
       "grid_auto_rows": null,
       "grid_column": null,
       "grid_gap": null,
       "grid_row": null,
       "grid_template_areas": null,
       "grid_template_columns": null,
       "grid_template_rows": null,
       "height": null,
       "justify_content": null,
       "justify_items": null,
       "left": null,
       "margin": null,
       "max_height": null,
       "max_width": null,
       "min_height": null,
       "min_width": null,
       "object_fit": null,
       "object_position": null,
       "order": null,
       "overflow": null,
       "overflow_x": null,
       "overflow_y": null,
       "padding": null,
       "right": null,
       "top": null,
       "visibility": null,
       "width": null
      }
     },
     "a746b6303c1c45ed9d86a642fd34ab99": {
      "model_module": "@jupyter-widgets/controls",
      "model_module_version": "1.5.0",
      "model_name": "HTMLModel",
      "state": {
       "_dom_classes": [],
       "_model_module": "@jupyter-widgets/controls",
       "_model_module_version": "1.5.0",
       "_model_name": "HTMLModel",
       "_view_count": null,
       "_view_module": "@jupyter-widgets/controls",
       "_view_module_version": "1.5.0",
       "_view_name": "HTMLView",
       "description": "",
       "description_tooltip": null,
       "layout": "IPY_MODEL_aca85c3691a44bc787a468102a11b869",
       "placeholder": "​",
       "style": "IPY_MODEL_284ba0e8ce114acf816a888271647639",
       "value": "Downloading (…)&quot;tf_model.h5&quot;;: 100%"
      }
     },
     "aca85c3691a44bc787a468102a11b869": {
      "model_module": "@jupyter-widgets/base",
      "model_module_version": "1.2.0",
      "model_name": "LayoutModel",
      "state": {
       "_model_module": "@jupyter-widgets/base",
       "_model_module_version": "1.2.0",
       "_model_name": "LayoutModel",
       "_view_count": null,
       "_view_module": "@jupyter-widgets/base",
       "_view_module_version": "1.2.0",
       "_view_name": "LayoutView",
       "align_content": null,
       "align_items": null,
       "align_self": null,
       "border": null,
       "bottom": null,
       "display": null,
       "flex": null,
       "flex_flow": null,
       "grid_area": null,
       "grid_auto_columns": null,
       "grid_auto_flow": null,
       "grid_auto_rows": null,
       "grid_column": null,
       "grid_gap": null,
       "grid_row": null,
       "grid_template_areas": null,
       "grid_template_columns": null,
       "grid_template_rows": null,
       "height": null,
       "justify_content": null,
       "justify_items": null,
       "left": null,
       "margin": null,
       "max_height": null,
       "max_width": null,
       "min_height": null,
       "min_width": null,
       "object_fit": null,
       "object_position": null,
       "order": null,
       "overflow": null,
       "overflow_x": null,
       "overflow_y": null,
       "padding": null,
       "right": null,
       "top": null,
       "visibility": null,
       "width": null
      }
     },
     "ad8374a35446426b92893903f7793de3": {
      "model_module": "@jupyter-widgets/controls",
      "model_module_version": "1.5.0",
      "model_name": "FloatProgressModel",
      "state": {
       "_dom_classes": [],
       "_model_module": "@jupyter-widgets/controls",
       "_model_module_version": "1.5.0",
       "_model_name": "FloatProgressModel",
       "_view_count": null,
       "_view_module": "@jupyter-widgets/controls",
       "_view_module_version": "1.5.0",
       "_view_name": "ProgressView",
       "bar_style": "success",
       "description": "",
       "description_tooltip": null,
       "layout": "IPY_MODEL_e8a4a396b2394cf49522c45d162e16f8",
       "max": 995526,
       "min": 0,
       "orientation": "horizontal",
       "style": "IPY_MODEL_5e1a9c1cd32c42d2a9245475642c096d",
       "value": 995526
      }
     },
     "b66577b2b49a4b42abff91f81517ae57": {
      "model_module": "@jupyter-widgets/base",
      "model_module_version": "1.2.0",
      "model_name": "LayoutModel",
      "state": {
       "_model_module": "@jupyter-widgets/base",
       "_model_module_version": "1.2.0",
       "_model_name": "LayoutModel",
       "_view_count": null,
       "_view_module": "@jupyter-widgets/base",
       "_view_module_version": "1.2.0",
       "_view_name": "LayoutView",
       "align_content": null,
       "align_items": null,
       "align_self": null,
       "border": null,
       "bottom": null,
       "display": null,
       "flex": null,
       "flex_flow": null,
       "grid_area": null,
       "grid_auto_columns": null,
       "grid_auto_flow": null,
       "grid_auto_rows": null,
       "grid_column": null,
       "grid_gap": null,
       "grid_row": null,
       "grid_template_areas": null,
       "grid_template_columns": null,
       "grid_template_rows": null,
       "height": null,
       "justify_content": null,
       "justify_items": null,
       "left": null,
       "margin": null,
       "max_height": null,
       "max_width": null,
       "min_height": null,
       "min_width": null,
       "object_fit": null,
       "object_position": null,
       "order": null,
       "overflow": null,
       "overflow_x": null,
       "overflow_y": null,
       "padding": null,
       "right": null,
       "top": null,
       "visibility": null,
       "width": null
      }
     },
     "b87fdeba5d874712bf618f6fa8a606a0": {
      "model_module": "@jupyter-widgets/base",
      "model_module_version": "1.2.0",
      "model_name": "LayoutModel",
      "state": {
       "_model_module": "@jupyter-widgets/base",
       "_model_module_version": "1.2.0",
       "_model_name": "LayoutModel",
       "_view_count": null,
       "_view_module": "@jupyter-widgets/base",
       "_view_module_version": "1.2.0",
       "_view_name": "LayoutView",
       "align_content": null,
       "align_items": null,
       "align_self": null,
       "border": null,
       "bottom": null,
       "display": null,
       "flex": null,
       "flex_flow": null,
       "grid_area": null,
       "grid_auto_columns": null,
       "grid_auto_flow": null,
       "grid_auto_rows": null,
       "grid_column": null,
       "grid_gap": null,
       "grid_row": null,
       "grid_template_areas": null,
       "grid_template_columns": null,
       "grid_template_rows": null,
       "height": null,
       "justify_content": null,
       "justify_items": null,
       "left": null,
       "margin": null,
       "max_height": null,
       "max_width": null,
       "min_height": null,
       "min_width": null,
       "object_fit": null,
       "object_position": null,
       "order": null,
       "overflow": null,
       "overflow_x": null,
       "overflow_y": null,
       "padding": null,
       "right": null,
       "top": null,
       "visibility": null,
       "width": null
      }
     },
     "c1534615a2d846ac9f73dd1f0c9e97e1": {
      "model_module": "@jupyter-widgets/controls",
      "model_module_version": "1.5.0",
      "model_name": "HTMLModel",
      "state": {
       "_dom_classes": [],
       "_model_module": "@jupyter-widgets/controls",
       "_model_module_version": "1.5.0",
       "_model_name": "HTMLModel",
       "_view_count": null,
       "_view_module": "@jupyter-widgets/controls",
       "_view_module_version": "1.5.0",
       "_view_name": "HTMLView",
       "description": "",
       "description_tooltip": null,
       "layout": "IPY_MODEL_b66577b2b49a4b42abff91f81517ae57",
       "placeholder": "​",
       "style": "IPY_MODEL_469cd7a3baa540599b3b8c58a559d7b1",
       "value": " 625/625 [00:00&lt;00:00, 45.1kB/s]"
      }
     },
     "c4324b0851d343fb967d5375b474507d": {
      "model_module": "@jupyter-widgets/controls",
      "model_module_version": "1.5.0",
      "model_name": "HBoxModel",
      "state": {
       "_dom_classes": [],
       "_model_module": "@jupyter-widgets/controls",
       "_model_module_version": "1.5.0",
       "_model_name": "HBoxModel",
       "_view_count": null,
       "_view_module": "@jupyter-widgets/controls",
       "_view_module_version": "1.5.0",
       "_view_name": "HBoxView",
       "box_style": "",
       "children": [
        "IPY_MODEL_984c4003b0c04b859f73eb5da1a6ee33",
        "IPY_MODEL_f38eec89538b4601bd9720843b6bb26c",
        "IPY_MODEL_c5be037f8ca64da792a6e6ad2e16297d"
       ],
       "layout": "IPY_MODEL_f7e882c082b74779b987ed1e9fced51e"
      }
     },
     "c5be037f8ca64da792a6e6ad2e16297d": {
      "model_module": "@jupyter-widgets/controls",
      "model_module_version": "1.5.0",
      "model_name": "HTMLModel",
      "state": {
       "_dom_classes": [],
       "_model_module": "@jupyter-widgets/controls",
       "_model_module_version": "1.5.0",
       "_model_name": "HTMLModel",
       "_view_count": null,
       "_view_module": "@jupyter-widgets/controls",
       "_view_module_version": "1.5.0",
       "_view_name": "HTMLView",
       "description": "",
       "description_tooltip": null,
       "layout": "IPY_MODEL_e4dea1dc716b42eaaa900e4fb73ae1b0",
       "placeholder": "​",
       "style": "IPY_MODEL_dc23c31bdc6a42588f10d77c27c81a3f",
       "value": " 29.0/29.0 [00:00&lt;00:00, 2.13kB/s]"
      }
     },
     "c96eb0e369e247d8bc1036fdad8cc207": {
      "model_module": "@jupyter-widgets/base",
      "model_module_version": "1.2.0",
      "model_name": "LayoutModel",
      "state": {
       "_model_module": "@jupyter-widgets/base",
       "_model_module_version": "1.2.0",
       "_model_name": "LayoutModel",
       "_view_count": null,
       "_view_module": "@jupyter-widgets/base",
       "_view_module_version": "1.2.0",
       "_view_name": "LayoutView",
       "align_content": null,
       "align_items": null,
       "align_self": null,
       "border": null,
       "bottom": null,
       "display": null,
       "flex": null,
       "flex_flow": null,
       "grid_area": null,
       "grid_auto_columns": null,
       "grid_auto_flow": null,
       "grid_auto_rows": null,
       "grid_column": null,
       "grid_gap": null,
       "grid_row": null,
       "grid_template_areas": null,
       "grid_template_columns": null,
       "grid_template_rows": null,
       "height": null,
       "justify_content": null,
       "justify_items": null,
       "left": null,
       "margin": null,
       "max_height": null,
       "max_width": null,
       "min_height": null,
       "min_width": null,
       "object_fit": null,
       "object_position": null,
       "order": null,
       "overflow": null,
       "overflow_x": null,
       "overflow_y": null,
       "padding": null,
       "right": null,
       "top": null,
       "visibility": null,
       "width": null
      }
     },
     "cb524a129e024f4da1b98fbcce4d587b": {
      "model_module": "@jupyter-widgets/base",
      "model_module_version": "1.2.0",
      "model_name": "LayoutModel",
      "state": {
       "_model_module": "@jupyter-widgets/base",
       "_model_module_version": "1.2.0",
       "_model_name": "LayoutModel",
       "_view_count": null,
       "_view_module": "@jupyter-widgets/base",
       "_view_module_version": "1.2.0",
       "_view_name": "LayoutView",
       "align_content": null,
       "align_items": null,
       "align_self": null,
       "border": null,
       "bottom": null,
       "display": null,
       "flex": null,
       "flex_flow": null,
       "grid_area": null,
       "grid_auto_columns": null,
       "grid_auto_flow": null,
       "grid_auto_rows": null,
       "grid_column": null,
       "grid_gap": null,
       "grid_row": null,
       "grid_template_areas": null,
       "grid_template_columns": null,
       "grid_template_rows": null,
       "height": null,
       "justify_content": null,
       "justify_items": null,
       "left": null,
       "margin": null,
       "max_height": null,
       "max_width": null,
       "min_height": null,
       "min_width": null,
       "object_fit": null,
       "object_position": null,
       "order": null,
       "overflow": null,
       "overflow_x": null,
       "overflow_y": null,
       "padding": null,
       "right": null,
       "top": null,
       "visibility": null,
       "width": null
      }
     },
     "d75b708a959941e4b820c0f3374d3a4b": {
      "model_module": "@jupyter-widgets/controls",
      "model_module_version": "1.5.0",
      "model_name": "ProgressStyleModel",
      "state": {
       "_model_module": "@jupyter-widgets/controls",
       "_model_module_version": "1.5.0",
       "_model_name": "ProgressStyleModel",
       "_view_count": null,
       "_view_module": "@jupyter-widgets/base",
       "_view_module_version": "1.2.0",
       "_view_name": "StyleView",
       "bar_color": null,
       "description_width": ""
      }
     },
     "da2240e9fafd46d8b9cb4b3d6ad3d9c1": {
      "model_module": "@jupyter-widgets/controls",
      "model_module_version": "1.5.0",
      "model_name": "HTMLModel",
      "state": {
       "_dom_classes": [],
       "_model_module": "@jupyter-widgets/controls",
       "_model_module_version": "1.5.0",
       "_model_name": "HTMLModel",
       "_view_count": null,
       "_view_module": "@jupyter-widgets/controls",
       "_view_module_version": "1.5.0",
       "_view_name": "HTMLView",
       "description": "",
       "description_tooltip": null,
       "layout": "IPY_MODEL_cb524a129e024f4da1b98fbcce4d587b",
       "placeholder": "​",
       "style": "IPY_MODEL_5df4bd0000a443c98dba6b53df807b92",
       "value": " 996k/996k [00:00&lt;00:00, 8.62MB/s]"
      }
     },
     "dc23c31bdc6a42588f10d77c27c81a3f": {
      "model_module": "@jupyter-widgets/controls",
      "model_module_version": "1.5.0",
      "model_name": "DescriptionStyleModel",
      "state": {
       "_model_module": "@jupyter-widgets/controls",
       "_model_module_version": "1.5.0",
       "_model_name": "DescriptionStyleModel",
       "_view_count": null,
       "_view_module": "@jupyter-widgets/base",
       "_view_module_version": "1.2.0",
       "_view_name": "StyleView",
       "description_width": ""
      }
     },
     "e2913b3fe9904f2a9a3eaa3d7dd1a49a": {
      "model_module": "@jupyter-widgets/base",
      "model_module_version": "1.2.0",
      "model_name": "LayoutModel",
      "state": {
       "_model_module": "@jupyter-widgets/base",
       "_model_module_version": "1.2.0",
       "_model_name": "LayoutModel",
       "_view_count": null,
       "_view_module": "@jupyter-widgets/base",
       "_view_module_version": "1.2.0",
       "_view_name": "LayoutView",
       "align_content": null,
       "align_items": null,
       "align_self": null,
       "border": null,
       "bottom": null,
       "display": null,
       "flex": null,
       "flex_flow": null,
       "grid_area": null,
       "grid_auto_columns": null,
       "grid_auto_flow": null,
       "grid_auto_rows": null,
       "grid_column": null,
       "grid_gap": null,
       "grid_row": null,
       "grid_template_areas": null,
       "grid_template_columns": null,
       "grid_template_rows": null,
       "height": null,
       "justify_content": null,
       "justify_items": null,
       "left": null,
       "margin": null,
       "max_height": null,
       "max_width": null,
       "min_height": null,
       "min_width": null,
       "object_fit": null,
       "object_position": null,
       "order": null,
       "overflow": null,
       "overflow_x": null,
       "overflow_y": null,
       "padding": null,
       "right": null,
       "top": null,
       "visibility": null,
       "width": null
      }
     },
     "e4dea1dc716b42eaaa900e4fb73ae1b0": {
      "model_module": "@jupyter-widgets/base",
      "model_module_version": "1.2.0",
      "model_name": "LayoutModel",
      "state": {
       "_model_module": "@jupyter-widgets/base",
       "_model_module_version": "1.2.0",
       "_model_name": "LayoutModel",
       "_view_count": null,
       "_view_module": "@jupyter-widgets/base",
       "_view_module_version": "1.2.0",
       "_view_name": "LayoutView",
       "align_content": null,
       "align_items": null,
       "align_self": null,
       "border": null,
       "bottom": null,
       "display": null,
       "flex": null,
       "flex_flow": null,
       "grid_area": null,
       "grid_auto_columns": null,
       "grid_auto_flow": null,
       "grid_auto_rows": null,
       "grid_column": null,
       "grid_gap": null,
       "grid_row": null,
       "grid_template_areas": null,
       "grid_template_columns": null,
       "grid_template_rows": null,
       "height": null,
       "justify_content": null,
       "justify_items": null,
       "left": null,
       "margin": null,
       "max_height": null,
       "max_width": null,
       "min_height": null,
       "min_width": null,
       "object_fit": null,
       "object_position": null,
       "order": null,
       "overflow": null,
       "overflow_x": null,
       "overflow_y": null,
       "padding": null,
       "right": null,
       "top": null,
       "visibility": null,
       "width": null
      }
     },
     "e8a4a396b2394cf49522c45d162e16f8": {
      "model_module": "@jupyter-widgets/base",
      "model_module_version": "1.2.0",
      "model_name": "LayoutModel",
      "state": {
       "_model_module": "@jupyter-widgets/base",
       "_model_module_version": "1.2.0",
       "_model_name": "LayoutModel",
       "_view_count": null,
       "_view_module": "@jupyter-widgets/base",
       "_view_module_version": "1.2.0",
       "_view_name": "LayoutView",
       "align_content": null,
       "align_items": null,
       "align_self": null,
       "border": null,
       "bottom": null,
       "display": null,
       "flex": null,
       "flex_flow": null,
       "grid_area": null,
       "grid_auto_columns": null,
       "grid_auto_flow": null,
       "grid_auto_rows": null,
       "grid_column": null,
       "grid_gap": null,
       "grid_row": null,
       "grid_template_areas": null,
       "grid_template_columns": null,
       "grid_template_rows": null,
       "height": null,
       "justify_content": null,
       "justify_items": null,
       "left": null,
       "margin": null,
       "max_height": null,
       "max_width": null,
       "min_height": null,
       "min_width": null,
       "object_fit": null,
       "object_position": null,
       "order": null,
       "overflow": null,
       "overflow_x": null,
       "overflow_y": null,
       "padding": null,
       "right": null,
       "top": null,
       "visibility": null,
       "width": null
      }
     },
     "ec373e391e134198842186ac62a06404": {
      "model_module": "@jupyter-widgets/controls",
      "model_module_version": "1.5.0",
      "model_name": "FloatProgressModel",
      "state": {
       "_dom_classes": [],
       "_model_module": "@jupyter-widgets/controls",
       "_model_module_version": "1.5.0",
       "_model_name": "FloatProgressModel",
       "_view_count": null,
       "_view_module": "@jupyter-widgets/controls",
       "_view_module_version": "1.5.0",
       "_view_name": "ProgressView",
       "bar_style": "success",
       "description": "",
       "description_tooltip": null,
       "layout": "IPY_MODEL_5a0c7652d1e8478795387caeb58a3495",
       "max": 1083389348,
       "min": 0,
       "orientation": "horizontal",
       "style": "IPY_MODEL_d75b708a959941e4b820c0f3374d3a4b",
       "value": 1083389348
      }
     },
     "f37f2ec0d13c434baf9a52c8ed1b73f7": {
      "model_module": "@jupyter-widgets/base",
      "model_module_version": "1.2.0",
      "model_name": "LayoutModel",
      "state": {
       "_model_module": "@jupyter-widgets/base",
       "_model_module_version": "1.2.0",
       "_model_name": "LayoutModel",
       "_view_count": null,
       "_view_module": "@jupyter-widgets/base",
       "_view_module_version": "1.2.0",
       "_view_name": "LayoutView",
       "align_content": null,
       "align_items": null,
       "align_self": null,
       "border": null,
       "bottom": null,
       "display": null,
       "flex": null,
       "flex_flow": null,
       "grid_area": null,
       "grid_auto_columns": null,
       "grid_auto_flow": null,
       "grid_auto_rows": null,
       "grid_column": null,
       "grid_gap": null,
       "grid_row": null,
       "grid_template_areas": null,
       "grid_template_columns": null,
       "grid_template_rows": null,
       "height": null,
       "justify_content": null,
       "justify_items": null,
       "left": null,
       "margin": null,
       "max_height": null,
       "max_width": null,
       "min_height": null,
       "min_width": null,
       "object_fit": null,
       "object_position": null,
       "order": null,
       "overflow": null,
       "overflow_x": null,
       "overflow_y": null,
       "padding": null,
       "right": null,
       "top": null,
       "visibility": null,
       "width": null
      }
     },
     "f38eec89538b4601bd9720843b6bb26c": {
      "model_module": "@jupyter-widgets/controls",
      "model_module_version": "1.5.0",
      "model_name": "FloatProgressModel",
      "state": {
       "_dom_classes": [],
       "_model_module": "@jupyter-widgets/controls",
       "_model_module_version": "1.5.0",
       "_model_name": "FloatProgressModel",
       "_view_count": null,
       "_view_module": "@jupyter-widgets/controls",
       "_view_module_version": "1.5.0",
       "_view_name": "ProgressView",
       "bar_style": "success",
       "description": "",
       "description_tooltip": null,
       "layout": "IPY_MODEL_b87fdeba5d874712bf618f6fa8a606a0",
       "max": 29,
       "min": 0,
       "orientation": "horizontal",
       "style": "IPY_MODEL_04ac4df8b9e94204a40825b61b7c046d",
       "value": 29
      }
     },
     "f4153678d19d4a3bafcbd8b6b423305c": {
      "model_module": "@jupyter-widgets/controls",
      "model_module_version": "1.5.0",
      "model_name": "HBoxModel",
      "state": {
       "_dom_classes": [],
       "_model_module": "@jupyter-widgets/controls",
       "_model_module_version": "1.5.0",
       "_model_name": "HBoxModel",
       "_view_count": null,
       "_view_module": "@jupyter-widgets/controls",
       "_view_module_version": "1.5.0",
       "_view_name": "HBoxView",
       "box_style": "",
       "children": [
        "IPY_MODEL_4fa0530bad564312aeaedb82d262378c",
        "IPY_MODEL_ad8374a35446426b92893903f7793de3",
        "IPY_MODEL_da2240e9fafd46d8b9cb4b3d6ad3d9c1"
       ],
       "layout": "IPY_MODEL_65ea19d36a5e4f37bdac72594f5f6cb4"
      }
     },
     "f7e882c082b74779b987ed1e9fced51e": {
      "model_module": "@jupyter-widgets/base",
      "model_module_version": "1.2.0",
      "model_name": "LayoutModel",
      "state": {
       "_model_module": "@jupyter-widgets/base",
       "_model_module_version": "1.2.0",
       "_model_name": "LayoutModel",
       "_view_count": null,
       "_view_module": "@jupyter-widgets/base",
       "_view_module_version": "1.2.0",
       "_view_name": "LayoutView",
       "align_content": null,
       "align_items": null,
       "align_self": null,
       "border": null,
       "bottom": null,
       "display": null,
       "flex": null,
       "flex_flow": null,
       "grid_area": null,
       "grid_auto_columns": null,
       "grid_auto_flow": null,
       "grid_auto_rows": null,
       "grid_column": null,
       "grid_gap": null,
       "grid_row": null,
       "grid_template_areas": null,
       "grid_template_columns": null,
       "grid_template_rows": null,
       "height": null,
       "justify_content": null,
       "justify_items": null,
       "left": null,
       "margin": null,
       "max_height": null,
       "max_width": null,
       "min_height": null,
       "min_width": null,
       "object_fit": null,
       "object_position": null,
       "order": null,
       "overflow": null,
       "overflow_x": null,
       "overflow_y": null,
       "padding": null,
       "right": null,
       "top": null,
       "visibility": null,
       "width": null
      }
     },
     "f8888f7d2b294c61a12838fe13fd2679": {
      "model_module": "@jupyter-widgets/controls",
      "model_module_version": "1.5.0",
      "model_name": "DescriptionStyleModel",
      "state": {
       "_model_module": "@jupyter-widgets/controls",
       "_model_module_version": "1.5.0",
       "_model_name": "DescriptionStyleModel",
       "_view_count": null,
       "_view_module": "@jupyter-widgets/base",
       "_view_module_version": "1.2.0",
       "_view_name": "StyleView",
       "description_width": ""
      }
     }
    },
    "version_major": 2,
    "version_minor": 0
   }
  }
 },
 "nbformat": 4,
 "nbformat_minor": 5
}
